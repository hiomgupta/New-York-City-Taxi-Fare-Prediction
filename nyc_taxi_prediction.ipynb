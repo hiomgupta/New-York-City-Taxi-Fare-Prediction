{
 "cells": [
  {
   "cell_type": "markdown",
   "metadata": {
    "id": "ymeK3K4P879t"
   },
   "source": [
    "# New York City Taxi Fare Prediction\n",
    "\n",
    "![](https://i.imgur.com/ecwUY8F.png)\n",
    "\n",
    "Dataset Link: https://www.kaggle.com/c/new-york-city-taxi-fare-prediction\n",
    "\n",
    "We'll train a machine learning model to predict the fare for a taxi ride in New York city given information like pickup date & time, pickup location, drop location and no. of passengers. \n",
    "\n",
    "This dataset is taken from a [Kaggle competition](ttps://www.kaggle.com/c/new-york-city-taxi-fare-prediction) organized by Google Cloud. \n",
    "\n"
   ]
  },
  {
   "cell_type": "markdown",
   "metadata": {},
   "source": [
    "We will go with this approach\n",
    "\n",
    "![](https://i.imgur.com/kKdAALX.png)\n"
   ]
  },
  {
   "cell_type": "markdown",
   "metadata": {
    "id": "KprVTPb44pV7"
   },
   "source": [
    "## 1. Download the Dataset"
   ]
  },
  {
   "cell_type": "markdown",
   "metadata": {
    "id": "QoD0siP-6b5K"
   },
   "source": [
    "### Install Required Libraries"
   ]
  },
  {
   "cell_type": "code",
   "execution_count": 229,
   "metadata": {
    "id": "BMPQKKyo6hR_"
   },
   "outputs": [],
   "source": [
    "import pandas as pd\n",
    "import opendatasets as od\n",
    "import random\n",
    "import numpy as np"
   ]
  },
  {
   "cell_type": "markdown",
   "metadata": {
    "id": "gR7X9VVl6h1J"
   },
   "source": [
    "### Download Data from Kaggle"
   ]
  },
  {
   "cell_type": "code",
   "execution_count": 230,
   "metadata": {
    "id": "RS0BaBV86j0Q"
   },
   "outputs": [],
   "source": [
    "dataset_url = 'https://www.kaggle.com/c/new-york-city-taxi-fare-prediction/overview'"
   ]
  },
  {
   "cell_type": "code",
   "execution_count": 231,
   "metadata": {
    "id": "xotpf7sjPUXy"
   },
   "outputs": [
    {
     "name": "stdout",
     "output_type": "stream",
     "text": [
      "Skipping, found downloaded files in \".\\new-york-city-taxi-fare-prediction\" (use force=True to force download)\n"
     ]
    }
   ],
   "source": [
    "data = od.download(dataset_url)"
   ]
  },
  {
   "cell_type": "code",
   "execution_count": 232,
   "metadata": {
    "id": "T-qbpdozPZXD"
   },
   "outputs": [],
   "source": [
    "data_dir = './new-york-city-taxi-fare-prediction'"
   ]
  },
  {
   "cell_type": "code",
   "execution_count": null,
   "metadata": {
    "id": "y2t2w_P_P6n-"
   },
   "outputs": [],
   "source": []
  },
  {
   "cell_type": "markdown",
   "metadata": {
    "id": "CRKXBoII6koE"
   },
   "source": [
    "### View Dataset Files"
   ]
  },
  {
   "cell_type": "markdown",
   "metadata": {
    "id": "ZD2m2fpRQUq1"
   },
   "source": [
    "Observations:\n",
    "\n",
    "- This is a supervised learning regression problem\n",
    "- Training data is 5.5 GB in size\n",
    "- Training data has 5.5 million rows\n",
    "- Test set is much smaller (< 10,000 rows)\n",
    "- The training set has 8 columns:\n",
    "    - `key` (a unique identifier)\n",
    "    - `fare_amount` (target column)\n",
    "    - `pickup_datetime`\n",
    "    - `pickup_longitude`\n",
    "    - `pickup_latitude`\n",
    "    - `dropoff_longitude`\n",
    "    - `dropoff_latitude`\n",
    "    - `passenger_count`\n",
    "- The test set has all columns except the target column `fare_amount`.\n",
    "- The submission file should contain the `key` and `fare_amount` for each test sample.\n",
    "\n"
   ]
  },
  {
   "cell_type": "code",
   "execution_count": null,
   "metadata": {
    "id": "ZxF43fGDRw4L"
   },
   "outputs": [],
   "source": []
  },
  {
   "cell_type": "markdown",
   "metadata": {
    "id": "g3ECfaXG6opv"
   },
   "source": [
    "### Loading Training Set"
   ]
  },
  {
   "cell_type": "code",
   "execution_count": 233,
   "metadata": {
    "id": "BvqQSC5NTK3w"
   },
   "outputs": [],
   "source": [
    "# %%time\n",
    "sample_frac = 0.1\n",
    "\n",
    "selected_cols = 'fare_amount,pickup_datetime,pickup_longitude,pickup_latitude,dropoff_longitude,dropoff_latitude,passenger_count'.split(',')\n",
    "dtypes = {\n",
    "    'fare_amount': 'float32',\n",
    "    'pickup_longitude': 'float32',\n",
    "    'pickup_latitude': 'float32',\n",
    "    'dropoff_longitude': 'float32',\n",
    "    'passenger_count': 'float32'\n",
    "}\n",
    "\n",
    "def skip_row(row_idx):\n",
    "    if row_idx == 0:\n",
    "        return False\n",
    "    return random.random() > sample_frac\n",
    "\n",
    "random.seed(42)\n",
    "df = pd.read_csv(data_dir+\"/train.csv\", \n",
    "                 usecols=selected_cols, \n",
    "                 dtype=dtypes, \n",
    "                 parse_dates=['pickup_datetime'], \n",
    "                 skiprows=skip_row)"
   ]
  },
  {
   "cell_type": "markdown",
   "metadata": {
    "id": "riKehMfZ6vbT"
   },
   "source": [
    "### Load Test Set\n",
    "\n",
    "For the test set, we'll simply provide the data types."
   ]
  },
  {
   "cell_type": "code",
   "execution_count": 234,
   "metadata": {
    "id": "vOO33o4o6xDS"
   },
   "outputs": [],
   "source": [
    "test_df = pd.read_csv(data_dir+'/test.csv', dtype=dtypes, parse_dates=['pickup_datetime'])"
   ]
  },
  {
   "cell_type": "code",
   "execution_count": 235,
   "metadata": {
    "id": "9oqXKAsbTYPl"
   },
   "outputs": [],
   "source": [
    "df = df.sample(frac=0.1, random_state=42)"
   ]
  },
  {
   "cell_type": "code",
   "execution_count": null,
   "metadata": {
    "id": "4LwhALNRTn0z"
   },
   "outputs": [],
   "source": []
  },
  {
   "cell_type": "markdown",
   "metadata": {
    "id": "f9CYWu1c6yD9"
   },
   "source": [
    "## 2. Explore the Dataset"
   ]
  },
  {
   "cell_type": "markdown",
   "metadata": {
    "id": "HK044Ke76_QB"
   },
   "source": [
    "### Training Set"
   ]
  },
  {
   "cell_type": "code",
   "execution_count": 236,
   "metadata": {
    "id": "ThJJwhCR7Gzb"
   },
   "outputs": [
    {
     "name": "stdout",
     "output_type": "stream",
     "text": [
      "<class 'pandas.core.frame.DataFrame'>\n",
      "Index: 554260 entries, 46408 to 3388239\n",
      "Data columns (total 7 columns):\n",
      " #   Column             Non-Null Count   Dtype              \n",
      "---  ------             --------------   -----              \n",
      " 0   fare_amount        554260 non-null  float32            \n",
      " 1   pickup_datetime    554260 non-null  datetime64[ns, UTC]\n",
      " 2   pickup_longitude   554260 non-null  float32            \n",
      " 3   pickup_latitude    554260 non-null  float32            \n",
      " 4   dropoff_longitude  554254 non-null  float32            \n",
      " 5   dropoff_latitude   554254 non-null  float64            \n",
      " 6   passenger_count    554260 non-null  float32            \n",
      "dtypes: datetime64[ns, UTC](1), float32(5), float64(1)\n",
      "memory usage: 23.3 MB\n"
     ]
    }
   ],
   "source": [
    "df.info()"
   ]
  },
  {
   "cell_type": "code",
   "execution_count": 237,
   "metadata": {
    "id": "GrcLO35KTsWi"
   },
   "outputs": [
    {
     "data": {
      "text/html": [
       "<div>\n",
       "<style scoped>\n",
       "    .dataframe tbody tr th:only-of-type {\n",
       "        vertical-align: middle;\n",
       "    }\n",
       "\n",
       "    .dataframe tbody tr th {\n",
       "        vertical-align: top;\n",
       "    }\n",
       "\n",
       "    .dataframe thead th {\n",
       "        text-align: right;\n",
       "    }\n",
       "</style>\n",
       "<table border=\"1\" class=\"dataframe\">\n",
       "  <thead>\n",
       "    <tr style=\"text-align: right;\">\n",
       "      <th></th>\n",
       "      <th>fare_amount</th>\n",
       "      <th>pickup_longitude</th>\n",
       "      <th>pickup_latitude</th>\n",
       "      <th>dropoff_longitude</th>\n",
       "      <th>dropoff_latitude</th>\n",
       "      <th>passenger_count</th>\n",
       "    </tr>\n",
       "  </thead>\n",
       "  <tbody>\n",
       "    <tr>\n",
       "      <th>count</th>\n",
       "      <td>554260.000000</td>\n",
       "      <td>554260.000000</td>\n",
       "      <td>554260.000000</td>\n",
       "      <td>554254.000000</td>\n",
       "      <td>554254.000000</td>\n",
       "      <td>554260.000000</td>\n",
       "    </tr>\n",
       "    <tr>\n",
       "      <th>mean</th>\n",
       "      <td>11.328062</td>\n",
       "      <td>-72.502403</td>\n",
       "      <td>39.901344</td>\n",
       "      <td>-72.499763</td>\n",
       "      <td>39.899464</td>\n",
       "      <td>1.684652</td>\n",
       "    </tr>\n",
       "    <tr>\n",
       "      <th>std</th>\n",
       "      <td>9.738989</td>\n",
       "      <td>13.893068</td>\n",
       "      <td>9.886724</td>\n",
       "      <td>13.115360</td>\n",
       "      <td>10.057526</td>\n",
       "      <td>1.308522</td>\n",
       "    </tr>\n",
       "    <tr>\n",
       "      <th>min</th>\n",
       "      <td>-96.000000</td>\n",
       "      <td>-3320.372803</td>\n",
       "      <td>-3415.400635</td>\n",
       "      <td>-2635.312012</td>\n",
       "      <td>-3483.855258</td>\n",
       "      <td>0.000000</td>\n",
       "    </tr>\n",
       "    <tr>\n",
       "      <th>25%</th>\n",
       "      <td>6.000000</td>\n",
       "      <td>-73.992073</td>\n",
       "      <td>40.734959</td>\n",
       "      <td>-73.991463</td>\n",
       "      <td>40.733923</td>\n",
       "      <td>1.000000</td>\n",
       "    </tr>\n",
       "    <tr>\n",
       "      <th>50%</th>\n",
       "      <td>8.500000</td>\n",
       "      <td>-73.981812</td>\n",
       "      <td>40.752728</td>\n",
       "      <td>-73.980156</td>\n",
       "      <td>40.753106</td>\n",
       "      <td>1.000000</td>\n",
       "    </tr>\n",
       "    <tr>\n",
       "      <th>75%</th>\n",
       "      <td>12.500000</td>\n",
       "      <td>-73.967033</td>\n",
       "      <td>40.767143</td>\n",
       "      <td>-73.963684</td>\n",
       "      <td>40.768066</td>\n",
       "      <td>2.000000</td>\n",
       "    </tr>\n",
       "    <tr>\n",
       "      <th>max</th>\n",
       "      <td>467.500000</td>\n",
       "      <td>3045.190918</td>\n",
       "      <td>1610.814087</td>\n",
       "      <td>3045.190918</td>\n",
       "      <td>1610.814082</td>\n",
       "      <td>6.000000</td>\n",
       "    </tr>\n",
       "  </tbody>\n",
       "</table>\n",
       "</div>"
      ],
      "text/plain": [
       "         fare_amount  pickup_longitude  pickup_latitude  dropoff_longitude  \\\n",
       "count  554260.000000     554260.000000    554260.000000      554254.000000   \n",
       "mean       11.328062        -72.502403        39.901344         -72.499763   \n",
       "std         9.738989         13.893068         9.886724          13.115360   \n",
       "min       -96.000000      -3320.372803     -3415.400635       -2635.312012   \n",
       "25%         6.000000        -73.992073        40.734959         -73.991463   \n",
       "50%         8.500000        -73.981812        40.752728         -73.980156   \n",
       "75%        12.500000        -73.967033        40.767143         -73.963684   \n",
       "max       467.500000       3045.190918      1610.814087        3045.190918   \n",
       "\n",
       "       dropoff_latitude  passenger_count  \n",
       "count     554254.000000    554260.000000  \n",
       "mean          39.899464         1.684652  \n",
       "std           10.057526         1.308522  \n",
       "min        -3483.855258         0.000000  \n",
       "25%           40.733923         1.000000  \n",
       "50%           40.753106         1.000000  \n",
       "75%           40.768066         2.000000  \n",
       "max         1610.814082         6.000000  "
      ]
     },
     "execution_count": 237,
     "metadata": {},
     "output_type": "execute_result"
    }
   ],
   "source": [
    "df.describe()"
   ]
  },
  {
   "cell_type": "code",
   "execution_count": 238,
   "metadata": {
    "id": "k5jzYKMNTuQc"
   },
   "outputs": [
    {
     "data": {
      "text/plain": [
       "(Timestamp('2009-01-01 00:11:46+0000', tz='UTC'),\n",
       " Timestamp('2015-06-30 23:52:23+0000', tz='UTC'))"
      ]
     },
     "execution_count": 238,
     "metadata": {},
     "output_type": "execute_result"
    }
   ],
   "source": [
    "df.pickup_datetime.min(), df.pickup_datetime.max()"
   ]
  },
  {
   "cell_type": "code",
   "execution_count": 239,
   "metadata": {},
   "outputs": [],
   "source": [
    "df.dropna(inplace=True)\n"
   ]
  },
  {
   "cell_type": "markdown",
   "metadata": {
    "id": "DtRcylCW7Hvu"
   },
   "source": [
    "### Test Set"
   ]
  },
  {
   "cell_type": "code",
   "execution_count": 240,
   "metadata": {
    "id": "zK-AtxR_7I6X"
   },
   "outputs": [
    {
     "name": "stdout",
     "output_type": "stream",
     "text": [
      "<class 'pandas.core.frame.DataFrame'>\n",
      "RangeIndex: 9914 entries, 0 to 9913\n",
      "Data columns (total 7 columns):\n",
      " #   Column             Non-Null Count  Dtype              \n",
      "---  ------             --------------  -----              \n",
      " 0   key                9914 non-null   object             \n",
      " 1   pickup_datetime    9914 non-null   datetime64[ns, UTC]\n",
      " 2   pickup_longitude   9914 non-null   float32            \n",
      " 3   pickup_latitude    9914 non-null   float32            \n",
      " 4   dropoff_longitude  9914 non-null   float32            \n",
      " 5   dropoff_latitude   9914 non-null   float64            \n",
      " 6   passenger_count    9914 non-null   float32            \n",
      "dtypes: datetime64[ns, UTC](1), float32(4), float64(1), object(1)\n",
      "memory usage: 387.4+ KB\n"
     ]
    }
   ],
   "source": [
    "test_df.info()"
   ]
  },
  {
   "cell_type": "code",
   "execution_count": 241,
   "metadata": {
    "id": "lKA33FctWGEe"
   },
   "outputs": [
    {
     "data": {
      "text/html": [
       "<div>\n",
       "<style scoped>\n",
       "    .dataframe tbody tr th:only-of-type {\n",
       "        vertical-align: middle;\n",
       "    }\n",
       "\n",
       "    .dataframe tbody tr th {\n",
       "        vertical-align: top;\n",
       "    }\n",
       "\n",
       "    .dataframe thead th {\n",
       "        text-align: right;\n",
       "    }\n",
       "</style>\n",
       "<table border=\"1\" class=\"dataframe\">\n",
       "  <thead>\n",
       "    <tr style=\"text-align: right;\">\n",
       "      <th></th>\n",
       "      <th>pickup_longitude</th>\n",
       "      <th>pickup_latitude</th>\n",
       "      <th>dropoff_longitude</th>\n",
       "      <th>dropoff_latitude</th>\n",
       "      <th>passenger_count</th>\n",
       "    </tr>\n",
       "  </thead>\n",
       "  <tbody>\n",
       "    <tr>\n",
       "      <th>count</th>\n",
       "      <td>9914.000000</td>\n",
       "      <td>9914.000000</td>\n",
       "      <td>9914.000000</td>\n",
       "      <td>9914.000000</td>\n",
       "      <td>9914.000000</td>\n",
       "    </tr>\n",
       "    <tr>\n",
       "      <th>mean</th>\n",
       "      <td>-73.974716</td>\n",
       "      <td>40.751041</td>\n",
       "      <td>-73.973656</td>\n",
       "      <td>40.751743</td>\n",
       "      <td>1.671273</td>\n",
       "    </tr>\n",
       "    <tr>\n",
       "      <th>std</th>\n",
       "      <td>0.042774</td>\n",
       "      <td>0.033541</td>\n",
       "      <td>0.039072</td>\n",
       "      <td>0.035435</td>\n",
       "      <td>1.278747</td>\n",
       "    </tr>\n",
       "    <tr>\n",
       "      <th>min</th>\n",
       "      <td>-74.252190</td>\n",
       "      <td>40.573143</td>\n",
       "      <td>-74.263245</td>\n",
       "      <td>40.568973</td>\n",
       "      <td>1.000000</td>\n",
       "    </tr>\n",
       "    <tr>\n",
       "      <th>25%</th>\n",
       "      <td>-73.992500</td>\n",
       "      <td>40.736125</td>\n",
       "      <td>-73.991249</td>\n",
       "      <td>40.735254</td>\n",
       "      <td>1.000000</td>\n",
       "    </tr>\n",
       "    <tr>\n",
       "      <th>50%</th>\n",
       "      <td>-73.982327</td>\n",
       "      <td>40.753052</td>\n",
       "      <td>-73.980015</td>\n",
       "      <td>40.754065</td>\n",
       "      <td>1.000000</td>\n",
       "    </tr>\n",
       "    <tr>\n",
       "      <th>75%</th>\n",
       "      <td>-73.968012</td>\n",
       "      <td>40.767113</td>\n",
       "      <td>-73.964062</td>\n",
       "      <td>40.768757</td>\n",
       "      <td>2.000000</td>\n",
       "    </tr>\n",
       "    <tr>\n",
       "      <th>max</th>\n",
       "      <td>-72.986534</td>\n",
       "      <td>41.709557</td>\n",
       "      <td>-72.990967</td>\n",
       "      <td>41.696683</td>\n",
       "      <td>6.000000</td>\n",
       "    </tr>\n",
       "  </tbody>\n",
       "</table>\n",
       "</div>"
      ],
      "text/plain": [
       "       pickup_longitude  pickup_latitude  dropoff_longitude  dropoff_latitude  \\\n",
       "count       9914.000000      9914.000000        9914.000000       9914.000000   \n",
       "mean         -73.974716        40.751041         -73.973656         40.751743   \n",
       "std            0.042774         0.033541           0.039072          0.035435   \n",
       "min          -74.252190        40.573143         -74.263245         40.568973   \n",
       "25%          -73.992500        40.736125         -73.991249         40.735254   \n",
       "50%          -73.982327        40.753052         -73.980015         40.754065   \n",
       "75%          -73.968012        40.767113         -73.964062         40.768757   \n",
       "max          -72.986534        41.709557         -72.990967         41.696683   \n",
       "\n",
       "       passenger_count  \n",
       "count      9914.000000  \n",
       "mean          1.671273  \n",
       "std           1.278747  \n",
       "min           1.000000  \n",
       "25%           1.000000  \n",
       "50%           1.000000  \n",
       "75%           2.000000  \n",
       "max           6.000000  "
      ]
     },
     "execution_count": 241,
     "metadata": {},
     "output_type": "execute_result"
    }
   ],
   "source": [
    "test_df.describe()\n"
   ]
  },
  {
   "cell_type": "code",
   "execution_count": 242,
   "metadata": {
    "id": "hRudxeE2Wfhm"
   },
   "outputs": [
    {
     "data": {
      "text/plain": [
       "(Timestamp('2009-01-01 11:04:24+0000', tz='UTC'),\n",
       " Timestamp('2015-06-30 20:03:50+0000', tz='UTC'))"
      ]
     },
     "execution_count": 242,
     "metadata": {},
     "output_type": "execute_result"
    }
   ],
   "source": [
    "test_df.pickup_datetime.min(), test_df.pickup_datetime.max()\n"
   ]
  },
  {
   "cell_type": "code",
   "execution_count": 243,
   "metadata": {},
   "outputs": [
    {
     "data": {
      "text/plain": [
       "key                  0\n",
       "pickup_datetime      0\n",
       "pickup_longitude     0\n",
       "pickup_latitude      0\n",
       "dropoff_longitude    0\n",
       "dropoff_latitude     0\n",
       "passenger_count      0\n",
       "dtype: int64"
      ]
     },
     "execution_count": 243,
     "metadata": {},
     "output_type": "execute_result"
    }
   ],
   "source": [
    "test_df.isnull().sum()"
   ]
  },
  {
   "cell_type": "markdown",
   "metadata": {
    "id": "Fo0ue49U7eu4"
   },
   "source": [
    "## 3. Prepare Dataset for Training\n"
   ]
  },
  {
   "cell_type": "markdown",
   "metadata": {
    "id": "mswEXeiu7mrA"
   },
   "source": [
    "### Split Training & Validation Set\n",
    "\n",
    "We'll set aside 20% of the training data as the validation set, to evaluate the models we train on previously unseen data. "
   ]
  },
  {
   "cell_type": "code",
   "execution_count": 244,
   "metadata": {
    "id": "-A1hKczB7U0I"
   },
   "outputs": [],
   "source": [
    "from sklearn.model_selection import train_test_split"
   ]
  },
  {
   "cell_type": "code",
   "execution_count": 245,
   "metadata": {
    "id": "223dkJPcZ5wM"
   },
   "outputs": [
    {
     "data": {
      "text/plain": [
       "(443403, 110851)"
      ]
     },
     "execution_count": 245,
     "metadata": {},
     "output_type": "execute_result"
    }
   ],
   "source": [
    "train_df, val_df = train_test_split(df, test_size=0.2, random_state=42)\n",
    "len(train_df),len(val_df)"
   ]
  },
  {
   "cell_type": "code",
   "execution_count": 246,
   "metadata": {
    "id": "fci2Mg9mZ6Dj"
   },
   "outputs": [],
   "source": [
    "train_df = train_df.dropna()\n",
    "val_df = val_df.dropna()"
   ]
  },
  {
   "cell_type": "code",
   "execution_count": 247,
   "metadata": {
    "id": "62tQ1Mkj-B1U"
   },
   "outputs": [
    {
     "data": {
      "text/plain": [
       "Index(['fare_amount', 'pickup_datetime', 'pickup_longitude', 'pickup_latitude',\n",
       "       'dropoff_longitude', 'dropoff_latitude', 'passenger_count'],\n",
       "      dtype='object')"
      ]
     },
     "execution_count": 247,
     "metadata": {},
     "output_type": "execute_result"
    }
   ],
   "source": [
    "train_df.columns"
   ]
  },
  {
   "cell_type": "code",
   "execution_count": 248,
   "metadata": {},
   "outputs": [
    {
     "name": "stdout",
     "output_type": "stream",
     "text": [
      "fare_amount : float32\n",
      "pickup_datetime : datetime64[ns, UTC]\n",
      "pickup_longitude : float32\n",
      "pickup_latitude : float32\n",
      "dropoff_longitude : float32\n",
      "dropoff_latitude : float64\n",
      "passenger_count : float32\n"
     ]
    }
   ],
   "source": [
    "for columns in df.columns:\n",
    "    print(columns, \":\",df[columns].dtype)"
   ]
  },
  {
   "cell_type": "code",
   "execution_count": null,
   "metadata": {},
   "outputs": [],
   "source": []
  },
  {
   "cell_type": "code",
   "execution_count": null,
   "metadata": {},
   "outputs": [],
   "source": []
  },
  {
   "cell_type": "code",
   "execution_count": null,
   "metadata": {},
   "outputs": [],
   "source": []
  },
  {
   "cell_type": "markdown",
   "metadata": {},
   "source": [
    "## 3. Feature Engineering\n",
    "\n",
    "\n",
    "- Extract parts of date\n",
    "- Remove outliers & invalid data\n",
    "- Add distance between pickup & drop\n",
    "- Add distance from landmarks\n"
   ]
  },
  {
   "cell_type": "markdown",
   "metadata": {},
   "source": [
    "### Extract Parts of Date\n",
    "\n",
    "- Year\n",
    "- Month\n",
    "- Day\n",
    "- Weekday\n",
    "- Hour\n",
    "\n"
   ]
  },
  {
   "cell_type": "code",
   "execution_count": 249,
   "metadata": {},
   "outputs": [],
   "source": [
    "def add_dateparts(df, col):\n",
    "    df[col + '_year'] = df[col].dt.year\n",
    "    df[col + '_month'] = df[col].dt.month\n",
    "    df[col + '_day'] = df[col].dt.day\n",
    "    df[col + '_weekday'] = df[col].dt.weekday\n",
    "    df[col + '_hour'] = df[col].dt.hour"
   ]
  },
  {
   "cell_type": "code",
   "execution_count": 250,
   "metadata": {},
   "outputs": [],
   "source": [
    "add_dateparts(train_df, 'pickup_datetime')"
   ]
  },
  {
   "cell_type": "code",
   "execution_count": 251,
   "metadata": {},
   "outputs": [],
   "source": [
    "add_dateparts(val_df, 'pickup_datetime')"
   ]
  },
  {
   "cell_type": "code",
   "execution_count": 252,
   "metadata": {},
   "outputs": [],
   "source": [
    "add_dateparts(test_df, 'pickup_datetime')"
   ]
  },
  {
   "cell_type": "code",
   "execution_count": 253,
   "metadata": {},
   "outputs": [
    {
     "data": {
      "text/html": [
       "<div>\n",
       "<style scoped>\n",
       "    .dataframe tbody tr th:only-of-type {\n",
       "        vertical-align: middle;\n",
       "    }\n",
       "\n",
       "    .dataframe tbody tr th {\n",
       "        vertical-align: top;\n",
       "    }\n",
       "\n",
       "    .dataframe thead th {\n",
       "        text-align: right;\n",
       "    }\n",
       "</style>\n",
       "<table border=\"1\" class=\"dataframe\">\n",
       "  <thead>\n",
       "    <tr style=\"text-align: right;\">\n",
       "      <th></th>\n",
       "      <th>fare_amount</th>\n",
       "      <th>pickup_datetime</th>\n",
       "      <th>pickup_longitude</th>\n",
       "      <th>pickup_latitude</th>\n",
       "      <th>dropoff_longitude</th>\n",
       "      <th>dropoff_latitude</th>\n",
       "      <th>passenger_count</th>\n",
       "      <th>pickup_datetime_year</th>\n",
       "      <th>pickup_datetime_month</th>\n",
       "      <th>pickup_datetime_day</th>\n",
       "      <th>pickup_datetime_weekday</th>\n",
       "      <th>pickup_datetime_hour</th>\n",
       "    </tr>\n",
       "  </thead>\n",
       "  <tbody>\n",
       "    <tr>\n",
       "      <th>4321120</th>\n",
       "      <td>10.000000</td>\n",
       "      <td>2015-03-27 23:21:03+00:00</td>\n",
       "      <td>-74.000092</td>\n",
       "      <td>40.761570</td>\n",
       "      <td>-73.970726</td>\n",
       "      <td>40.764744</td>\n",
       "      <td>1.0</td>\n",
       "      <td>2015</td>\n",
       "      <td>3</td>\n",
       "      <td>27</td>\n",
       "      <td>4</td>\n",
       "      <td>23</td>\n",
       "    </tr>\n",
       "    <tr>\n",
       "      <th>2428681</th>\n",
       "      <td>7.700000</td>\n",
       "      <td>2011-08-31 22:41:53+00:00</td>\n",
       "      <td>-74.002029</td>\n",
       "      <td>40.750774</td>\n",
       "      <td>-73.980881</td>\n",
       "      <td>40.781599</td>\n",
       "      <td>2.0</td>\n",
       "      <td>2011</td>\n",
       "      <td>8</td>\n",
       "      <td>31</td>\n",
       "      <td>2</td>\n",
       "      <td>22</td>\n",
       "    </tr>\n",
       "    <tr>\n",
       "      <th>4728450</th>\n",
       "      <td>8.500000</td>\n",
       "      <td>2012-02-23 19:12:13+00:00</td>\n",
       "      <td>-74.001068</td>\n",
       "      <td>40.731571</td>\n",
       "      <td>-73.992050</td>\n",
       "      <td>40.714999</td>\n",
       "      <td>1.0</td>\n",
       "      <td>2012</td>\n",
       "      <td>2</td>\n",
       "      <td>23</td>\n",
       "      <td>3</td>\n",
       "      <td>19</td>\n",
       "    </tr>\n",
       "    <tr>\n",
       "      <th>4029692</th>\n",
       "      <td>7.000000</td>\n",
       "      <td>2014-05-02 08:11:00+00:00</td>\n",
       "      <td>-74.014168</td>\n",
       "      <td>40.709446</td>\n",
       "      <td>-74.005089</td>\n",
       "      <td>40.719837</td>\n",
       "      <td>1.0</td>\n",
       "      <td>2014</td>\n",
       "      <td>5</td>\n",
       "      <td>2</td>\n",
       "      <td>4</td>\n",
       "      <td>8</td>\n",
       "    </tr>\n",
       "    <tr>\n",
       "      <th>1736770</th>\n",
       "      <td>16.500000</td>\n",
       "      <td>2009-06-02 22:02:17+00:00</td>\n",
       "      <td>-74.001976</td>\n",
       "      <td>40.728073</td>\n",
       "      <td>-73.967636</td>\n",
       "      <td>40.787679</td>\n",
       "      <td>1.0</td>\n",
       "      <td>2009</td>\n",
       "      <td>6</td>\n",
       "      <td>2</td>\n",
       "      <td>1</td>\n",
       "      <td>22</td>\n",
       "    </tr>\n",
       "    <tr>\n",
       "      <th>...</th>\n",
       "      <td>...</td>\n",
       "      <td>...</td>\n",
       "      <td>...</td>\n",
       "      <td>...</td>\n",
       "      <td>...</td>\n",
       "      <td>...</td>\n",
       "      <td>...</td>\n",
       "      <td>...</td>\n",
       "      <td>...</td>\n",
       "      <td>...</td>\n",
       "      <td>...</td>\n",
       "      <td>...</td>\n",
       "    </tr>\n",
       "    <tr>\n",
       "      <th>2236496</th>\n",
       "      <td>5.300000</td>\n",
       "      <td>2011-05-16 11:52:00+00:00</td>\n",
       "      <td>-73.980087</td>\n",
       "      <td>40.743015</td>\n",
       "      <td>-73.973305</td>\n",
       "      <td>40.751452</td>\n",
       "      <td>2.0</td>\n",
       "      <td>2011</td>\n",
       "      <td>5</td>\n",
       "      <td>16</td>\n",
       "      <td>0</td>\n",
       "      <td>11</td>\n",
       "    </tr>\n",
       "    <tr>\n",
       "      <th>1694616</th>\n",
       "      <td>8.000000</td>\n",
       "      <td>2012-11-25 03:19:00+00:00</td>\n",
       "      <td>-74.001968</td>\n",
       "      <td>40.740532</td>\n",
       "      <td>-73.979012</td>\n",
       "      <td>40.741202</td>\n",
       "      <td>5.0</td>\n",
       "      <td>2012</td>\n",
       "      <td>11</td>\n",
       "      <td>25</td>\n",
       "      <td>6</td>\n",
       "      <td>3</td>\n",
       "    </tr>\n",
       "    <tr>\n",
       "      <th>392666</th>\n",
       "      <td>17.299999</td>\n",
       "      <td>2012-01-25 11:54:08+00:00</td>\n",
       "      <td>-74.006813</td>\n",
       "      <td>40.706230</td>\n",
       "      <td>-73.989929</td>\n",
       "      <td>40.750996</td>\n",
       "      <td>1.0</td>\n",
       "      <td>2012</td>\n",
       "      <td>1</td>\n",
       "      <td>25</td>\n",
       "      <td>2</td>\n",
       "      <td>11</td>\n",
       "    </tr>\n",
       "    <tr>\n",
       "      <th>3416048</th>\n",
       "      <td>4.500000</td>\n",
       "      <td>2009-01-27 10:00:20+00:00</td>\n",
       "      <td>-73.977493</td>\n",
       "      <td>40.746525</td>\n",
       "      <td>-73.974724</td>\n",
       "      <td>40.752158</td>\n",
       "      <td>1.0</td>\n",
       "      <td>2009</td>\n",
       "      <td>1</td>\n",
       "      <td>27</td>\n",
       "      <td>1</td>\n",
       "      <td>10</td>\n",
       "    </tr>\n",
       "    <tr>\n",
       "      <th>3578247</th>\n",
       "      <td>11.300000</td>\n",
       "      <td>2010-11-16 15:41:40+00:00</td>\n",
       "      <td>-73.977051</td>\n",
       "      <td>40.761692</td>\n",
       "      <td>-73.945755</td>\n",
       "      <td>40.789826</td>\n",
       "      <td>1.0</td>\n",
       "      <td>2010</td>\n",
       "      <td>11</td>\n",
       "      <td>16</td>\n",
       "      <td>1</td>\n",
       "      <td>15</td>\n",
       "    </tr>\n",
       "  </tbody>\n",
       "</table>\n",
       "<p>443403 rows × 12 columns</p>\n",
       "</div>"
      ],
      "text/plain": [
       "         fare_amount           pickup_datetime  pickup_longitude  \\\n",
       "4321120    10.000000 2015-03-27 23:21:03+00:00        -74.000092   \n",
       "2428681     7.700000 2011-08-31 22:41:53+00:00        -74.002029   \n",
       "4728450     8.500000 2012-02-23 19:12:13+00:00        -74.001068   \n",
       "4029692     7.000000 2014-05-02 08:11:00+00:00        -74.014168   \n",
       "1736770    16.500000 2009-06-02 22:02:17+00:00        -74.001976   \n",
       "...              ...                       ...               ...   \n",
       "2236496     5.300000 2011-05-16 11:52:00+00:00        -73.980087   \n",
       "1694616     8.000000 2012-11-25 03:19:00+00:00        -74.001968   \n",
       "392666     17.299999 2012-01-25 11:54:08+00:00        -74.006813   \n",
       "3416048     4.500000 2009-01-27 10:00:20+00:00        -73.977493   \n",
       "3578247    11.300000 2010-11-16 15:41:40+00:00        -73.977051   \n",
       "\n",
       "         pickup_latitude  dropoff_longitude  dropoff_latitude  \\\n",
       "4321120        40.761570         -73.970726         40.764744   \n",
       "2428681        40.750774         -73.980881         40.781599   \n",
       "4728450        40.731571         -73.992050         40.714999   \n",
       "4029692        40.709446         -74.005089         40.719837   \n",
       "1736770        40.728073         -73.967636         40.787679   \n",
       "...                  ...                ...               ...   \n",
       "2236496        40.743015         -73.973305         40.751452   \n",
       "1694616        40.740532         -73.979012         40.741202   \n",
       "392666         40.706230         -73.989929         40.750996   \n",
       "3416048        40.746525         -73.974724         40.752158   \n",
       "3578247        40.761692         -73.945755         40.789826   \n",
       "\n",
       "         passenger_count  pickup_datetime_year  pickup_datetime_month  \\\n",
       "4321120              1.0                  2015                      3   \n",
       "2428681              2.0                  2011                      8   \n",
       "4728450              1.0                  2012                      2   \n",
       "4029692              1.0                  2014                      5   \n",
       "1736770              1.0                  2009                      6   \n",
       "...                  ...                   ...                    ...   \n",
       "2236496              2.0                  2011                      5   \n",
       "1694616              5.0                  2012                     11   \n",
       "392666               1.0                  2012                      1   \n",
       "3416048              1.0                  2009                      1   \n",
       "3578247              1.0                  2010                     11   \n",
       "\n",
       "         pickup_datetime_day  pickup_datetime_weekday  pickup_datetime_hour  \n",
       "4321120                   27                        4                    23  \n",
       "2428681                   31                        2                    22  \n",
       "4728450                   23                        3                    19  \n",
       "4029692                    2                        4                     8  \n",
       "1736770                    2                        1                    22  \n",
       "...                      ...                      ...                   ...  \n",
       "2236496                   16                        0                    11  \n",
       "1694616                   25                        6                     3  \n",
       "392666                    25                        2                    11  \n",
       "3416048                   27                        1                    10  \n",
       "3578247                   16                        1                    15  \n",
       "\n",
       "[443403 rows x 12 columns]"
      ]
     },
     "execution_count": 253,
     "metadata": {},
     "output_type": "execute_result"
    }
   ],
   "source": [
    "train_df"
   ]
  },
  {
   "cell_type": "markdown",
   "metadata": {},
   "source": [
    "### Add Distance Between Pickup and Drop"
   ]
  },
  {
   "cell_type": "code",
   "execution_count": 254,
   "metadata": {},
   "outputs": [],
   "source": [
    "import numpy as np\n",
    "\n",
    "def haversine_np(lon1, lat1, lon2, lat2):\n",
    "    \"\"\"\n",
    "    Calculate the great circle distance between two points\n",
    "    on the earth (specified in decimal degrees)\n",
    "\n",
    "    All args must be of equal length.    \n",
    "\n",
    "    \"\"\"\n",
    "    lon1, lat1, lon2, lat2 = map(np.radians, [lon1, lat1, lon2, lat2])\n",
    "\n",
    "    dlon = lon2 - lon1\n",
    "    dlat = lat2 - lat1\n",
    "\n",
    "    a = np.sin(dlat/2.0)**2 + np.cos(lat1) * np.cos(lat2) * np.sin(dlon/2.0)**2\n",
    "\n",
    "    c = 2 * np.arcsin(np.sqrt(a))\n",
    "    km = 6367 * c\n",
    "    return km"
   ]
  },
  {
   "cell_type": "code",
   "execution_count": 255,
   "metadata": {},
   "outputs": [],
   "source": [
    "def add_trip_distance(df):\n",
    "    df['trip_distance'] = haversine_np(df['pickup_longitude'], df['pickup_latitude'], df['dropoff_longitude'], df['dropoff_latitude'])"
   ]
  },
  {
   "cell_type": "code",
   "execution_count": 256,
   "metadata": {},
   "outputs": [
    {
     "name": "stdout",
     "output_type": "stream",
     "text": [
      "CPU times: total: 15.6 ms\n",
      "Wall time: 55.9 ms\n"
     ]
    }
   ],
   "source": [
    "%%time\n",
    "add_trip_distance(train_df)"
   ]
  },
  {
   "cell_type": "code",
   "execution_count": 257,
   "metadata": {},
   "outputs": [],
   "source": [
    "add_trip_distance(val_df)"
   ]
  },
  {
   "cell_type": "code",
   "execution_count": 258,
   "metadata": {},
   "outputs": [],
   "source": [
    "add_trip_distance(test_df)"
   ]
  },
  {
   "cell_type": "code",
   "execution_count": 259,
   "metadata": {},
   "outputs": [
    {
     "data": {
      "text/html": [
       "<div>\n",
       "<style scoped>\n",
       "    .dataframe tbody tr th:only-of-type {\n",
       "        vertical-align: middle;\n",
       "    }\n",
       "\n",
       "    .dataframe tbody tr th {\n",
       "        vertical-align: top;\n",
       "    }\n",
       "\n",
       "    .dataframe thead th {\n",
       "        text-align: right;\n",
       "    }\n",
       "</style>\n",
       "<table border=\"1\" class=\"dataframe\">\n",
       "  <thead>\n",
       "    <tr style=\"text-align: right;\">\n",
       "      <th></th>\n",
       "      <th>fare_amount</th>\n",
       "      <th>pickup_datetime</th>\n",
       "      <th>pickup_longitude</th>\n",
       "      <th>pickup_latitude</th>\n",
       "      <th>dropoff_longitude</th>\n",
       "      <th>dropoff_latitude</th>\n",
       "      <th>passenger_count</th>\n",
       "      <th>pickup_datetime_year</th>\n",
       "      <th>pickup_datetime_month</th>\n",
       "      <th>pickup_datetime_day</th>\n",
       "      <th>pickup_datetime_weekday</th>\n",
       "      <th>pickup_datetime_hour</th>\n",
       "      <th>trip_distance</th>\n",
       "    </tr>\n",
       "  </thead>\n",
       "  <tbody>\n",
       "    <tr>\n",
       "      <th>2934168</th>\n",
       "      <td>7.7</td>\n",
       "      <td>2012-04-21 16:32:52+00:00</td>\n",
       "      <td>-73.978333</td>\n",
       "      <td>40.761818</td>\n",
       "      <td>-73.990860</td>\n",
       "      <td>40.745695</td>\n",
       "      <td>2.0</td>\n",
       "      <td>2012</td>\n",
       "      <td>4</td>\n",
       "      <td>21</td>\n",
       "      <td>5</td>\n",
       "      <td>16</td>\n",
       "      <td>2.078912</td>\n",
       "    </tr>\n",
       "    <tr>\n",
       "      <th>1375957</th>\n",
       "      <td>15.7</td>\n",
       "      <td>2009-11-11 03:51:11+00:00</td>\n",
       "      <td>-73.995956</td>\n",
       "      <td>40.767216</td>\n",
       "      <td>-73.940964</td>\n",
       "      <td>40.829091</td>\n",
       "      <td>1.0</td>\n",
       "      <td>2009</td>\n",
       "      <td>11</td>\n",
       "      <td>11</td>\n",
       "      <td>2</td>\n",
       "      <td>3</td>\n",
       "      <td>8.287065</td>\n",
       "    </tr>\n",
       "    <tr>\n",
       "      <th>313012</th>\n",
       "      <td>7.7</td>\n",
       "      <td>2012-06-30 17:27:58+00:00</td>\n",
       "      <td>-73.987411</td>\n",
       "      <td>40.749859</td>\n",
       "      <td>-73.987030</td>\n",
       "      <td>40.726653</td>\n",
       "      <td>2.0</td>\n",
       "      <td>2012</td>\n",
       "      <td>6</td>\n",
       "      <td>30</td>\n",
       "      <td>5</td>\n",
       "      <td>17</td>\n",
       "      <td>2.578858</td>\n",
       "    </tr>\n",
       "    <tr>\n",
       "      <th>4006104</th>\n",
       "      <td>16.5</td>\n",
       "      <td>2014-01-04 21:34:41+00:00</td>\n",
       "      <td>-74.005905</td>\n",
       "      <td>40.709362</td>\n",
       "      <td>-73.940994</td>\n",
       "      <td>40.696330</td>\n",
       "      <td>1.0</td>\n",
       "      <td>2014</td>\n",
       "      <td>1</td>\n",
       "      <td>4</td>\n",
       "      <td>5</td>\n",
       "      <td>21</td>\n",
       "      <td>5.657132</td>\n",
       "    </tr>\n",
       "    <tr>\n",
       "      <th>4449443</th>\n",
       "      <td>8.9</td>\n",
       "      <td>2012-06-28 21:38:00+00:00</td>\n",
       "      <td>-73.988731</td>\n",
       "      <td>40.758766</td>\n",
       "      <td>-73.969803</td>\n",
       "      <td>40.787967</td>\n",
       "      <td>1.0</td>\n",
       "      <td>2012</td>\n",
       "      <td>6</td>\n",
       "      <td>28</td>\n",
       "      <td>3</td>\n",
       "      <td>21</td>\n",
       "      <td>3.614928</td>\n",
       "    </tr>\n",
       "  </tbody>\n",
       "</table>\n",
       "</div>"
      ],
      "text/plain": [
       "         fare_amount           pickup_datetime  pickup_longitude  \\\n",
       "2934168          7.7 2012-04-21 16:32:52+00:00        -73.978333   \n",
       "1375957         15.7 2009-11-11 03:51:11+00:00        -73.995956   \n",
       "313012           7.7 2012-06-30 17:27:58+00:00        -73.987411   \n",
       "4006104         16.5 2014-01-04 21:34:41+00:00        -74.005905   \n",
       "4449443          8.9 2012-06-28 21:38:00+00:00        -73.988731   \n",
       "\n",
       "         pickup_latitude  dropoff_longitude  dropoff_latitude  \\\n",
       "2934168        40.761818         -73.990860         40.745695   \n",
       "1375957        40.767216         -73.940964         40.829091   \n",
       "313012         40.749859         -73.987030         40.726653   \n",
       "4006104        40.709362         -73.940994         40.696330   \n",
       "4449443        40.758766         -73.969803         40.787967   \n",
       "\n",
       "         passenger_count  pickup_datetime_year  pickup_datetime_month  \\\n",
       "2934168              2.0                  2012                      4   \n",
       "1375957              1.0                  2009                     11   \n",
       "313012               2.0                  2012                      6   \n",
       "4006104              1.0                  2014                      1   \n",
       "4449443              1.0                  2012                      6   \n",
       "\n",
       "         pickup_datetime_day  pickup_datetime_weekday  pickup_datetime_hour  \\\n",
       "2934168                   21                        5                    16   \n",
       "1375957                   11                        2                     3   \n",
       "313012                    30                        5                    17   \n",
       "4006104                    4                        5                    21   \n",
       "4449443                   28                        3                    21   \n",
       "\n",
       "         trip_distance  \n",
       "2934168       2.078912  \n",
       "1375957       8.287065  \n",
       "313012        2.578858  \n",
       "4006104       5.657132  \n",
       "4449443       3.614928  "
      ]
     },
     "execution_count": 259,
     "metadata": {},
     "output_type": "execute_result"
    }
   ],
   "source": [
    "train_df.sample(5)"
   ]
  },
  {
   "cell_type": "markdown",
   "metadata": {},
   "source": [
    "### Add Distance From Popular Landmarks\n",
    "\n",
    "- JFK Airport\n",
    "- LGA Airport\n",
    "- EWR Airport\n",
    "- Times Square\n",
    "- Met Meuseum\n",
    "- World Trade Center\n",
    "\n",
    "We'll add the distance from drop location. "
   ]
  },
  {
   "cell_type": "code",
   "execution_count": 260,
   "metadata": {},
   "outputs": [],
   "source": [
    "jfk_lonlat = -73.7781, 40.6413\n",
    "lga_lonlat = -73.8740, 40.7769\n",
    "ewr_lonlat = -74.1745, 40.6895\n",
    "met_lonlat = -73.9632, 40.7794\n",
    "wtc_lonlat = -74.0099, 40.7126"
   ]
  },
  {
   "cell_type": "code",
   "execution_count": 261,
   "metadata": {},
   "outputs": [],
   "source": [
    "def add_landmark_dropoff_distance(df, landmark_name, landmark_lonlat):\n",
    "    lon, lat = landmark_lonlat\n",
    "    df[landmark_name + '_drop_distance'] = haversine_np(lon, lat, df['dropoff_longitude'], df['dropoff_latitude'])\n"
   ]
  },
  {
   "cell_type": "code",
   "execution_count": 262,
   "metadata": {},
   "outputs": [
    {
     "name": "stdout",
     "output_type": "stream",
     "text": [
      "CPU times: total: 156 ms\n",
      "Wall time: 221 ms\n"
     ]
    }
   ],
   "source": [
    "%%time\n",
    "for a_df in [train_df, val_df, test_df]:\n",
    "    for name, lonlat in [('jfk', jfk_lonlat), ('lga', lga_lonlat), ('ewr', ewr_lonlat), ('met', met_lonlat), ('wtc', wtc_lonlat)]:\n",
    "        add_landmark_dropoff_distance(a_df, name, lonlat)"
   ]
  },
  {
   "cell_type": "code",
   "execution_count": 263,
   "metadata": {},
   "outputs": [
    {
     "data": {
      "text/html": [
       "<div>\n",
       "<style scoped>\n",
       "    .dataframe tbody tr th:only-of-type {\n",
       "        vertical-align: middle;\n",
       "    }\n",
       "\n",
       "    .dataframe tbody tr th {\n",
       "        vertical-align: top;\n",
       "    }\n",
       "\n",
       "    .dataframe thead th {\n",
       "        text-align: right;\n",
       "    }\n",
       "</style>\n",
       "<table border=\"1\" class=\"dataframe\">\n",
       "  <thead>\n",
       "    <tr style=\"text-align: right;\">\n",
       "      <th></th>\n",
       "      <th>fare_amount</th>\n",
       "      <th>pickup_datetime</th>\n",
       "      <th>pickup_longitude</th>\n",
       "      <th>pickup_latitude</th>\n",
       "      <th>dropoff_longitude</th>\n",
       "      <th>dropoff_latitude</th>\n",
       "      <th>passenger_count</th>\n",
       "      <th>pickup_datetime_year</th>\n",
       "      <th>pickup_datetime_month</th>\n",
       "      <th>pickup_datetime_day</th>\n",
       "      <th>pickup_datetime_weekday</th>\n",
       "      <th>pickup_datetime_hour</th>\n",
       "      <th>trip_distance</th>\n",
       "      <th>jfk_drop_distance</th>\n",
       "      <th>lga_drop_distance</th>\n",
       "      <th>ewr_drop_distance</th>\n",
       "      <th>met_drop_distance</th>\n",
       "      <th>wtc_drop_distance</th>\n",
       "    </tr>\n",
       "  </thead>\n",
       "  <tbody>\n",
       "    <tr>\n",
       "      <th>951297</th>\n",
       "      <td>16.5</td>\n",
       "      <td>2010-05-25 22:19:25+00:00</td>\n",
       "      <td>-74.012131</td>\n",
       "      <td>40.707150</td>\n",
       "      <td>-73.974693</td>\n",
       "      <td>40.756593</td>\n",
       "      <td>1.0</td>\n",
       "      <td>2010</td>\n",
       "      <td>5</td>\n",
       "      <td>25</td>\n",
       "      <td>1</td>\n",
       "      <td>22</td>\n",
       "      <td>6.334598</td>\n",
       "      <td>20.939730</td>\n",
       "      <td>8.769762</td>\n",
       "      <td>18.405452</td>\n",
       "      <td>2.712600</td>\n",
       "      <td>5.717485</td>\n",
       "    </tr>\n",
       "    <tr>\n",
       "      <th>3084343</th>\n",
       "      <td>5.7</td>\n",
       "      <td>2011-11-14 01:10:48+00:00</td>\n",
       "      <td>-73.983391</td>\n",
       "      <td>40.761215</td>\n",
       "      <td>-73.981956</td>\n",
       "      <td>40.771267</td>\n",
       "      <td>1.0</td>\n",
       "      <td>2011</td>\n",
       "      <td>11</td>\n",
       "      <td>14</td>\n",
       "      <td>0</td>\n",
       "      <td>1</td>\n",
       "      <td>1.123358</td>\n",
       "      <td>22.438947</td>\n",
       "      <td>9.106633</td>\n",
       "      <td>18.586365</td>\n",
       "      <td>1.818782</td>\n",
       "      <td>6.930871</td>\n",
       "    </tr>\n",
       "    <tr>\n",
       "      <th>2491068</th>\n",
       "      <td>28.9</td>\n",
       "      <td>2012-02-24 21:54:00+00:00</td>\n",
       "      <td>-73.862968</td>\n",
       "      <td>40.768826</td>\n",
       "      <td>-73.970596</td>\n",
       "      <td>40.788587</td>\n",
       "      <td>1.0</td>\n",
       "      <td>2012</td>\n",
       "      <td>2</td>\n",
       "      <td>24</td>\n",
       "      <td>4</td>\n",
       "      <td>21</td>\n",
       "      <td>9.318745</td>\n",
       "      <td>23.038446</td>\n",
       "      <td>8.230696</td>\n",
       "      <td>20.396305</td>\n",
       "      <td>1.195374</td>\n",
       "      <td>9.069298</td>\n",
       "    </tr>\n",
       "    <tr>\n",
       "      <th>860945</th>\n",
       "      <td>6.9</td>\n",
       "      <td>2010-07-22 20:57:00+00:00</td>\n",
       "      <td>-74.003502</td>\n",
       "      <td>40.725201</td>\n",
       "      <td>-74.010635</td>\n",
       "      <td>40.709497</td>\n",
       "      <td>2.0</td>\n",
       "      <td>2010</td>\n",
       "      <td>7</td>\n",
       "      <td>22</td>\n",
       "      <td>3</td>\n",
       "      <td>20</td>\n",
       "      <td>1.845566</td>\n",
       "      <td>21.011926</td>\n",
       "      <td>13.727005</td>\n",
       "      <td>13.983470</td>\n",
       "      <td>8.734208</td>\n",
       "      <td>0.350273</td>\n",
       "    </tr>\n",
       "    <tr>\n",
       "      <th>5086343</th>\n",
       "      <td>9.3</td>\n",
       "      <td>2009-06-28 03:12:01+00:00</td>\n",
       "      <td>-73.987862</td>\n",
       "      <td>40.765297</td>\n",
       "      <td>-73.998985</td>\n",
       "      <td>40.728214</td>\n",
       "      <td>2.0</td>\n",
       "      <td>2009</td>\n",
       "      <td>6</td>\n",
       "      <td>28</td>\n",
       "      <td>6</td>\n",
       "      <td>3</td>\n",
       "      <td>4.226042</td>\n",
       "      <td>20.970198</td>\n",
       "      <td>11.830954</td>\n",
       "      <td>15.398006</td>\n",
       "      <td>6.436416</td>\n",
       "      <td>1.963574</td>\n",
       "    </tr>\n",
       "  </tbody>\n",
       "</table>\n",
       "</div>"
      ],
      "text/plain": [
       "         fare_amount           pickup_datetime  pickup_longitude  \\\n",
       "951297          16.5 2010-05-25 22:19:25+00:00        -74.012131   \n",
       "3084343          5.7 2011-11-14 01:10:48+00:00        -73.983391   \n",
       "2491068         28.9 2012-02-24 21:54:00+00:00        -73.862968   \n",
       "860945           6.9 2010-07-22 20:57:00+00:00        -74.003502   \n",
       "5086343          9.3 2009-06-28 03:12:01+00:00        -73.987862   \n",
       "\n",
       "         pickup_latitude  dropoff_longitude  dropoff_latitude  \\\n",
       "951297         40.707150         -73.974693         40.756593   \n",
       "3084343        40.761215         -73.981956         40.771267   \n",
       "2491068        40.768826         -73.970596         40.788587   \n",
       "860945         40.725201         -74.010635         40.709497   \n",
       "5086343        40.765297         -73.998985         40.728214   \n",
       "\n",
       "         passenger_count  pickup_datetime_year  pickup_datetime_month  \\\n",
       "951297               1.0                  2010                      5   \n",
       "3084343              1.0                  2011                     11   \n",
       "2491068              1.0                  2012                      2   \n",
       "860945               2.0                  2010                      7   \n",
       "5086343              2.0                  2009                      6   \n",
       "\n",
       "         pickup_datetime_day  pickup_datetime_weekday  pickup_datetime_hour  \\\n",
       "951297                    25                        1                    22   \n",
       "3084343                   14                        0                     1   \n",
       "2491068                   24                        4                    21   \n",
       "860945                    22                        3                    20   \n",
       "5086343                   28                        6                     3   \n",
       "\n",
       "         trip_distance  jfk_drop_distance  lga_drop_distance  \\\n",
       "951297        6.334598          20.939730           8.769762   \n",
       "3084343       1.123358          22.438947           9.106633   \n",
       "2491068       9.318745          23.038446           8.230696   \n",
       "860945        1.845566          21.011926          13.727005   \n",
       "5086343       4.226042          20.970198          11.830954   \n",
       "\n",
       "         ewr_drop_distance  met_drop_distance  wtc_drop_distance  \n",
       "951297           18.405452           2.712600           5.717485  \n",
       "3084343          18.586365           1.818782           6.930871  \n",
       "2491068          20.396305           1.195374           9.069298  \n",
       "860945           13.983470           8.734208           0.350273  \n",
       "5086343          15.398006           6.436416           1.963574  "
      ]
     },
     "execution_count": 263,
     "metadata": {},
     "output_type": "execute_result"
    }
   ],
   "source": [
    "train_df.sample(5)"
   ]
  },
  {
   "cell_type": "markdown",
   "metadata": {},
   "source": [
    "### Remove Outliers and Invalid Data\n",
    "\n",
    "There seems to be some invalide data in each of the following columns:\n",
    "\n",
    "- Fare amount\n",
    "- Passenger count\n",
    "- Pickup latitude & longitude\n",
    "- Drop latitude & longitude"
   ]
  },
  {
   "cell_type": "code",
   "execution_count": 264,
   "metadata": {},
   "outputs": [
    {
     "data": {
      "text/html": [
       "<div>\n",
       "<style scoped>\n",
       "    .dataframe tbody tr th:only-of-type {\n",
       "        vertical-align: middle;\n",
       "    }\n",
       "\n",
       "    .dataframe tbody tr th {\n",
       "        vertical-align: top;\n",
       "    }\n",
       "\n",
       "    .dataframe thead th {\n",
       "        text-align: right;\n",
       "    }\n",
       "</style>\n",
       "<table border=\"1\" class=\"dataframe\">\n",
       "  <thead>\n",
       "    <tr style=\"text-align: right;\">\n",
       "      <th></th>\n",
       "      <th>fare_amount</th>\n",
       "      <th>pickup_longitude</th>\n",
       "      <th>pickup_latitude</th>\n",
       "      <th>dropoff_longitude</th>\n",
       "      <th>dropoff_latitude</th>\n",
       "      <th>passenger_count</th>\n",
       "      <th>pickup_datetime_year</th>\n",
       "      <th>pickup_datetime_month</th>\n",
       "      <th>pickup_datetime_day</th>\n",
       "      <th>pickup_datetime_weekday</th>\n",
       "      <th>pickup_datetime_hour</th>\n",
       "      <th>trip_distance</th>\n",
       "      <th>jfk_drop_distance</th>\n",
       "      <th>lga_drop_distance</th>\n",
       "      <th>ewr_drop_distance</th>\n",
       "      <th>met_drop_distance</th>\n",
       "      <th>wtc_drop_distance</th>\n",
       "    </tr>\n",
       "  </thead>\n",
       "  <tbody>\n",
       "    <tr>\n",
       "      <th>count</th>\n",
       "      <td>443403.000000</td>\n",
       "      <td>443403.000000</td>\n",
       "      <td>443403.000000</td>\n",
       "      <td>443403.000000</td>\n",
       "      <td>443403.000000</td>\n",
       "      <td>443403.000000</td>\n",
       "      <td>443403.000000</td>\n",
       "      <td>443403.000000</td>\n",
       "      <td>443403.000000</td>\n",
       "      <td>443403.00000</td>\n",
       "      <td>443403.000000</td>\n",
       "      <td>443403.000000</td>\n",
       "      <td>443403.000000</td>\n",
       "      <td>443403.000000</td>\n",
       "      <td>443403.000000</td>\n",
       "      <td>443403.000000</td>\n",
       "      <td>443403.000000</td>\n",
       "    </tr>\n",
       "    <tr>\n",
       "      <th>mean</th>\n",
       "      <td>11.329108</td>\n",
       "      <td>-72.507820</td>\n",
       "      <td>39.902088</td>\n",
       "      <td>-72.506096</td>\n",
       "      <td>39.899097</td>\n",
       "      <td>1.686121</td>\n",
       "      <td>2011.739900</td>\n",
       "      <td>6.266996</td>\n",
       "      <td>15.700025</td>\n",
       "      <td>3.04292</td>\n",
       "      <td>13.492365</td>\n",
       "      <td>20.149734</td>\n",
       "      <td>192.655011</td>\n",
       "      <td>181.873881</td>\n",
       "      <td>190.924374</td>\n",
       "      <td>176.926966</td>\n",
       "      <td>178.408513</td>\n",
       "    </tr>\n",
       "    <tr>\n",
       "      <th>std</th>\n",
       "      <td>9.731365</td>\n",
       "      <td>14.066110</td>\n",
       "      <td>10.582174</td>\n",
       "      <td>13.562894</td>\n",
       "      <td>10.782491</td>\n",
       "      <td>1.309458</td>\n",
       "      <td>1.857708</td>\n",
       "      <td>3.438313</td>\n",
       "      <td>8.685712</td>\n",
       "      <td>1.94849</td>\n",
       "      <td>6.511993</td>\n",
       "      <td>373.427838</td>\n",
       "      <td>1222.991206</td>\n",
       "      <td>1226.041307</td>\n",
       "      <td>1227.870185</td>\n",
       "      <td>1227.751223</td>\n",
       "      <td>1227.847796</td>\n",
       "    </tr>\n",
       "    <tr>\n",
       "      <th>min</th>\n",
       "      <td>-96.000000</td>\n",
       "      <td>-3320.372803</td>\n",
       "      <td>-3415.400635</td>\n",
       "      <td>-2635.312012</td>\n",
       "      <td>-3483.855258</td>\n",
       "      <td>0.000000</td>\n",
       "      <td>2009.000000</td>\n",
       "      <td>1.000000</td>\n",
       "      <td>1.000000</td>\n",
       "      <td>0.00000</td>\n",
       "      <td>0.000000</td>\n",
       "      <td>0.000000</td>\n",
       "      <td>0.332365</td>\n",
       "      <td>0.196104</td>\n",
       "      <td>0.246340</td>\n",
       "      <td>0.037383</td>\n",
       "      <td>0.005160</td>\n",
       "    </tr>\n",
       "    <tr>\n",
       "      <th>25%</th>\n",
       "      <td>6.000000</td>\n",
       "      <td>-73.992073</td>\n",
       "      <td>40.734997</td>\n",
       "      <td>-73.991470</td>\n",
       "      <td>40.733923</td>\n",
       "      <td>1.000000</td>\n",
       "      <td>2010.000000</td>\n",
       "      <td>3.000000</td>\n",
       "      <td>8.000000</td>\n",
       "      <td>1.00000</td>\n",
       "      <td>9.000000</td>\n",
       "      <td>1.208694</td>\n",
       "      <td>20.537541</td>\n",
       "      <td>8.345685</td>\n",
       "      <td>16.494572</td>\n",
       "      <td>2.172124</td>\n",
       "      <td>3.630888</td>\n",
       "    </tr>\n",
       "    <tr>\n",
       "      <th>50%</th>\n",
       "      <td>8.500000</td>\n",
       "      <td>-73.981827</td>\n",
       "      <td>40.752743</td>\n",
       "      <td>-73.980156</td>\n",
       "      <td>40.753100</td>\n",
       "      <td>1.000000</td>\n",
       "      <td>2012.000000</td>\n",
       "      <td>6.000000</td>\n",
       "      <td>16.000000</td>\n",
       "      <td>3.00000</td>\n",
       "      <td>14.000000</td>\n",
       "      <td>2.114037</td>\n",
       "      <td>21.202149</td>\n",
       "      <td>9.578120</td>\n",
       "      <td>18.019128</td>\n",
       "      <td>3.821448</td>\n",
       "      <td>5.561476</td>\n",
       "    </tr>\n",
       "    <tr>\n",
       "      <th>75%</th>\n",
       "      <td>12.500000</td>\n",
       "      <td>-73.967087</td>\n",
       "      <td>40.767162</td>\n",
       "      <td>-73.963684</td>\n",
       "      <td>40.768082</td>\n",
       "      <td>2.000000</td>\n",
       "      <td>2013.000000</td>\n",
       "      <td>9.000000</td>\n",
       "      <td>23.000000</td>\n",
       "      <td>5.00000</td>\n",
       "      <td>19.000000</td>\n",
       "      <td>3.872398</td>\n",
       "      <td>21.947517</td>\n",
       "      <td>11.134841</td>\n",
       "      <td>19.955493</td>\n",
       "      <td>6.077785</td>\n",
       "      <td>7.818409</td>\n",
       "    </tr>\n",
       "    <tr>\n",
       "      <th>max</th>\n",
       "      <td>467.500000</td>\n",
       "      <td>3045.190918</td>\n",
       "      <td>1610.814087</td>\n",
       "      <td>3045.190918</td>\n",
       "      <td>1610.814082</td>\n",
       "      <td>6.000000</td>\n",
       "      <td>2015.000000</td>\n",
       "      <td>12.000000</td>\n",
       "      <td>31.000000</td>\n",
       "      <td>6.00000</td>\n",
       "      <td>23.000000</td>\n",
       "      <td>13457.196344</td>\n",
       "      <td>15349.637584</td>\n",
       "      <td>15358.183677</td>\n",
       "      <td>15336.584174</td>\n",
       "      <td>15354.458571</td>\n",
       "      <td>15346.077443</td>\n",
       "    </tr>\n",
       "  </tbody>\n",
       "</table>\n",
       "</div>"
      ],
      "text/plain": [
       "         fare_amount  pickup_longitude  pickup_latitude  dropoff_longitude  \\\n",
       "count  443403.000000     443403.000000    443403.000000      443403.000000   \n",
       "mean       11.329108        -72.507820        39.902088         -72.506096   \n",
       "std         9.731365         14.066110        10.582174          13.562894   \n",
       "min       -96.000000      -3320.372803     -3415.400635       -2635.312012   \n",
       "25%         6.000000        -73.992073        40.734997         -73.991470   \n",
       "50%         8.500000        -73.981827        40.752743         -73.980156   \n",
       "75%        12.500000        -73.967087        40.767162         -73.963684   \n",
       "max       467.500000       3045.190918      1610.814087        3045.190918   \n",
       "\n",
       "       dropoff_latitude  passenger_count  pickup_datetime_year  \\\n",
       "count     443403.000000    443403.000000         443403.000000   \n",
       "mean          39.899097         1.686121           2011.739900   \n",
       "std           10.782491         1.309458              1.857708   \n",
       "min        -3483.855258         0.000000           2009.000000   \n",
       "25%           40.733923         1.000000           2010.000000   \n",
       "50%           40.753100         1.000000           2012.000000   \n",
       "75%           40.768082         2.000000           2013.000000   \n",
       "max         1610.814082         6.000000           2015.000000   \n",
       "\n",
       "       pickup_datetime_month  pickup_datetime_day  pickup_datetime_weekday  \\\n",
       "count          443403.000000        443403.000000             443403.00000   \n",
       "mean                6.266996            15.700025                  3.04292   \n",
       "std                 3.438313             8.685712                  1.94849   \n",
       "min                 1.000000             1.000000                  0.00000   \n",
       "25%                 3.000000             8.000000                  1.00000   \n",
       "50%                 6.000000            16.000000                  3.00000   \n",
       "75%                 9.000000            23.000000                  5.00000   \n",
       "max                12.000000            31.000000                  6.00000   \n",
       "\n",
       "       pickup_datetime_hour  trip_distance  jfk_drop_distance  \\\n",
       "count         443403.000000  443403.000000      443403.000000   \n",
       "mean              13.492365      20.149734         192.655011   \n",
       "std                6.511993     373.427838        1222.991206   \n",
       "min                0.000000       0.000000           0.332365   \n",
       "25%                9.000000       1.208694          20.537541   \n",
       "50%               14.000000       2.114037          21.202149   \n",
       "75%               19.000000       3.872398          21.947517   \n",
       "max               23.000000   13457.196344       15349.637584   \n",
       "\n",
       "       lga_drop_distance  ewr_drop_distance  met_drop_distance  \\\n",
       "count      443403.000000      443403.000000      443403.000000   \n",
       "mean          181.873881         190.924374         176.926966   \n",
       "std          1226.041307        1227.870185        1227.751223   \n",
       "min             0.196104           0.246340           0.037383   \n",
       "25%             8.345685          16.494572           2.172124   \n",
       "50%             9.578120          18.019128           3.821448   \n",
       "75%            11.134841          19.955493           6.077785   \n",
       "max         15358.183677       15336.584174       15354.458571   \n",
       "\n",
       "       wtc_drop_distance  \n",
       "count      443403.000000  \n",
       "mean          178.408513  \n",
       "std          1227.847796  \n",
       "min             0.005160  \n",
       "25%             3.630888  \n",
       "50%             5.561476  \n",
       "75%             7.818409  \n",
       "max         15346.077443  "
      ]
     },
     "execution_count": 264,
     "metadata": {},
     "output_type": "execute_result"
    }
   ],
   "source": [
    "train_df.describe()"
   ]
  },
  {
   "cell_type": "code",
   "execution_count": 265,
   "metadata": {},
   "outputs": [
    {
     "data": {
      "text/html": [
       "<div>\n",
       "<style scoped>\n",
       "    .dataframe tbody tr th:only-of-type {\n",
       "        vertical-align: middle;\n",
       "    }\n",
       "\n",
       "    .dataframe tbody tr th {\n",
       "        vertical-align: top;\n",
       "    }\n",
       "\n",
       "    .dataframe thead th {\n",
       "        text-align: right;\n",
       "    }\n",
       "</style>\n",
       "<table border=\"1\" class=\"dataframe\">\n",
       "  <thead>\n",
       "    <tr style=\"text-align: right;\">\n",
       "      <th></th>\n",
       "      <th>pickup_longitude</th>\n",
       "      <th>pickup_latitude</th>\n",
       "      <th>dropoff_longitude</th>\n",
       "      <th>dropoff_latitude</th>\n",
       "      <th>passenger_count</th>\n",
       "      <th>pickup_datetime_year</th>\n",
       "      <th>pickup_datetime_month</th>\n",
       "      <th>pickup_datetime_day</th>\n",
       "      <th>pickup_datetime_weekday</th>\n",
       "      <th>pickup_datetime_hour</th>\n",
       "      <th>trip_distance</th>\n",
       "      <th>jfk_drop_distance</th>\n",
       "      <th>lga_drop_distance</th>\n",
       "      <th>ewr_drop_distance</th>\n",
       "      <th>met_drop_distance</th>\n",
       "      <th>wtc_drop_distance</th>\n",
       "    </tr>\n",
       "  </thead>\n",
       "  <tbody>\n",
       "    <tr>\n",
       "      <th>count</th>\n",
       "      <td>9914.000000</td>\n",
       "      <td>9914.000000</td>\n",
       "      <td>9914.000000</td>\n",
       "      <td>9914.000000</td>\n",
       "      <td>9914.000000</td>\n",
       "      <td>9914.000000</td>\n",
       "      <td>9914.000000</td>\n",
       "      <td>9914.000000</td>\n",
       "      <td>9914.000000</td>\n",
       "      <td>9914.000000</td>\n",
       "      <td>9914.000000</td>\n",
       "      <td>9914.000000</td>\n",
       "      <td>9914.000000</td>\n",
       "      <td>9914.000000</td>\n",
       "      <td>9914.000000</td>\n",
       "      <td>9914.000000</td>\n",
       "    </tr>\n",
       "    <tr>\n",
       "      <th>mean</th>\n",
       "      <td>-73.974716</td>\n",
       "      <td>40.751041</td>\n",
       "      <td>-73.973656</td>\n",
       "      <td>40.751743</td>\n",
       "      <td>1.671273</td>\n",
       "      <td>2011.815816</td>\n",
       "      <td>6.857979</td>\n",
       "      <td>16.194170</td>\n",
       "      <td>2.852834</td>\n",
       "      <td>13.467420</td>\n",
       "      <td>3.433217</td>\n",
       "      <td>20.916707</td>\n",
       "      <td>9.675209</td>\n",
       "      <td>18.546655</td>\n",
       "      <td>4.512975</td>\n",
       "      <td>6.037621</td>\n",
       "    </tr>\n",
       "    <tr>\n",
       "      <th>std</th>\n",
       "      <td>0.042774</td>\n",
       "      <td>0.033541</td>\n",
       "      <td>0.039072</td>\n",
       "      <td>0.035435</td>\n",
       "      <td>1.278747</td>\n",
       "      <td>1.803347</td>\n",
       "      <td>3.353272</td>\n",
       "      <td>8.838482</td>\n",
       "      <td>1.994451</td>\n",
       "      <td>6.868584</td>\n",
       "      <td>3.969883</td>\n",
       "      <td>3.303942</td>\n",
       "      <td>3.295656</td>\n",
       "      <td>4.035818</td>\n",
       "      <td>4.018438</td>\n",
       "      <td>4.252537</td>\n",
       "    </tr>\n",
       "    <tr>\n",
       "      <th>min</th>\n",
       "      <td>-74.252190</td>\n",
       "      <td>40.573143</td>\n",
       "      <td>-74.263245</td>\n",
       "      <td>40.568973</td>\n",
       "      <td>1.000000</td>\n",
       "      <td>2009.000000</td>\n",
       "      <td>1.000000</td>\n",
       "      <td>1.000000</td>\n",
       "      <td>0.000000</td>\n",
       "      <td>0.000000</td>\n",
       "      <td>0.000009</td>\n",
       "      <td>0.402057</td>\n",
       "      <td>0.285510</td>\n",
       "      <td>0.284706</td>\n",
       "      <td>0.085728</td>\n",
       "      <td>0.040386</td>\n",
       "    </tr>\n",
       "    <tr>\n",
       "      <th>25%</th>\n",
       "      <td>-73.992500</td>\n",
       "      <td>40.736125</td>\n",
       "      <td>-73.991249</td>\n",
       "      <td>40.735254</td>\n",
       "      <td>1.000000</td>\n",
       "      <td>2010.000000</td>\n",
       "      <td>4.000000</td>\n",
       "      <td>9.000000</td>\n",
       "      <td>1.000000</td>\n",
       "      <td>8.000000</td>\n",
       "      <td>1.297281</td>\n",
       "      <td>20.513366</td>\n",
       "      <td>8.311562</td>\n",
       "      <td>16.520468</td>\n",
       "      <td>2.126326</td>\n",
       "      <td>3.669914</td>\n",
       "    </tr>\n",
       "    <tr>\n",
       "      <th>50%</th>\n",
       "      <td>-73.982327</td>\n",
       "      <td>40.753052</td>\n",
       "      <td>-73.980015</td>\n",
       "      <td>40.754065</td>\n",
       "      <td>1.000000</td>\n",
       "      <td>2012.000000</td>\n",
       "      <td>7.000000</td>\n",
       "      <td>16.000000</td>\n",
       "      <td>3.000000</td>\n",
       "      <td>15.000000</td>\n",
       "      <td>2.215669</td>\n",
       "      <td>21.181394</td>\n",
       "      <td>9.477792</td>\n",
       "      <td>18.024364</td>\n",
       "      <td>3.698360</td>\n",
       "      <td>5.541418</td>\n",
       "    </tr>\n",
       "    <tr>\n",
       "      <th>75%</th>\n",
       "      <td>-73.968012</td>\n",
       "      <td>40.767113</td>\n",
       "      <td>-73.964062</td>\n",
       "      <td>40.768757</td>\n",
       "      <td>2.000000</td>\n",
       "      <td>2014.000000</td>\n",
       "      <td>10.000000</td>\n",
       "      <td>25.000000</td>\n",
       "      <td>5.000000</td>\n",
       "      <td>19.000000</td>\n",
       "      <td>4.042928</td>\n",
       "      <td>21.909781</td>\n",
       "      <td>10.965471</td>\n",
       "      <td>19.880521</td>\n",
       "      <td>5.922760</td>\n",
       "      <td>7.757408</td>\n",
       "    </tr>\n",
       "    <tr>\n",
       "      <th>max</th>\n",
       "      <td>-72.986534</td>\n",
       "      <td>41.709557</td>\n",
       "      <td>-72.990967</td>\n",
       "      <td>41.696683</td>\n",
       "      <td>6.000000</td>\n",
       "      <td>2015.000000</td>\n",
       "      <td>12.000000</td>\n",
       "      <td>31.000000</td>\n",
       "      <td>6.000000</td>\n",
       "      <td>23.000000</td>\n",
       "      <td>99.933359</td>\n",
       "      <td>134.497657</td>\n",
       "      <td>126.062486</td>\n",
       "      <td>149.400789</td>\n",
       "      <td>130.347048</td>\n",
       "      <td>138.619454</td>\n",
       "    </tr>\n",
       "  </tbody>\n",
       "</table>\n",
       "</div>"
      ],
      "text/plain": [
       "       pickup_longitude  pickup_latitude  dropoff_longitude  dropoff_latitude  \\\n",
       "count       9914.000000      9914.000000        9914.000000       9914.000000   \n",
       "mean         -73.974716        40.751041         -73.973656         40.751743   \n",
       "std            0.042774         0.033541           0.039072          0.035435   \n",
       "min          -74.252190        40.573143         -74.263245         40.568973   \n",
       "25%          -73.992500        40.736125         -73.991249         40.735254   \n",
       "50%          -73.982327        40.753052         -73.980015         40.754065   \n",
       "75%          -73.968012        40.767113         -73.964062         40.768757   \n",
       "max          -72.986534        41.709557         -72.990967         41.696683   \n",
       "\n",
       "       passenger_count  pickup_datetime_year  pickup_datetime_month  \\\n",
       "count      9914.000000           9914.000000            9914.000000   \n",
       "mean          1.671273           2011.815816               6.857979   \n",
       "std           1.278747              1.803347               3.353272   \n",
       "min           1.000000           2009.000000               1.000000   \n",
       "25%           1.000000           2010.000000               4.000000   \n",
       "50%           1.000000           2012.000000               7.000000   \n",
       "75%           2.000000           2014.000000              10.000000   \n",
       "max           6.000000           2015.000000              12.000000   \n",
       "\n",
       "       pickup_datetime_day  pickup_datetime_weekday  pickup_datetime_hour  \\\n",
       "count          9914.000000              9914.000000           9914.000000   \n",
       "mean             16.194170                 2.852834             13.467420   \n",
       "std               8.838482                 1.994451              6.868584   \n",
       "min               1.000000                 0.000000              0.000000   \n",
       "25%               9.000000                 1.000000              8.000000   \n",
       "50%              16.000000                 3.000000             15.000000   \n",
       "75%              25.000000                 5.000000             19.000000   \n",
       "max              31.000000                 6.000000             23.000000   \n",
       "\n",
       "       trip_distance  jfk_drop_distance  lga_drop_distance  ewr_drop_distance  \\\n",
       "count    9914.000000        9914.000000        9914.000000        9914.000000   \n",
       "mean        3.433217          20.916707           9.675209          18.546655   \n",
       "std         3.969883           3.303942           3.295656           4.035818   \n",
       "min         0.000009           0.402057           0.285510           0.284706   \n",
       "25%         1.297281          20.513366           8.311562          16.520468   \n",
       "50%         2.215669          21.181394           9.477792          18.024364   \n",
       "75%         4.042928          21.909781          10.965471          19.880521   \n",
       "max        99.933359         134.497657         126.062486         149.400789   \n",
       "\n",
       "       met_drop_distance  wtc_drop_distance  \n",
       "count        9914.000000        9914.000000  \n",
       "mean            4.512975           6.037621  \n",
       "std             4.018438           4.252537  \n",
       "min             0.085728           0.040386  \n",
       "25%             2.126326           3.669914  \n",
       "50%             3.698360           5.541418  \n",
       "75%             5.922760           7.757408  \n",
       "max           130.347048         138.619454  "
      ]
     },
     "execution_count": 265,
     "metadata": {},
     "output_type": "execute_result"
    }
   ],
   "source": [
    "test_df.describe()"
   ]
  },
  {
   "cell_type": "markdown",
   "metadata": {},
   "source": [
    "We'll use the following ranges:\n",
    "\n",
    "- `fare_amount`: \\$1 to \\$500\n",
    "- `longitudes`: -75 to -72\n",
    "- `latitudes`: 40 to 42\n",
    "- `passenger_count`: 1 to 6\n"
   ]
  },
  {
   "cell_type": "code",
   "execution_count": 266,
   "metadata": {},
   "outputs": [],
   "source": [
    "def remove_outliers(df):\n",
    "    return df[(df['fare_amount'] >= 1.) & \n",
    "              (df['fare_amount'] <= 500.) &\n",
    "              (df['pickup_longitude'] >= -75) & \n",
    "              (df['pickup_longitude'] <= -72) & \n",
    "              (df['dropoff_longitude'] >= -75) & \n",
    "              (df['dropoff_longitude'] <= -72) & \n",
    "              (df['pickup_latitude'] >= 40) & \n",
    "              (df['pickup_latitude'] <= 42) & \n",
    "              (df['dropoff_latitude'] >=40) & \n",
    "              (df['dropoff_latitude'] <= 42) & \n",
    "              (df['passenger_count'] >= 1) & \n",
    "              (df['passenger_count'] <= 6)]"
   ]
  },
  {
   "cell_type": "code",
   "execution_count": 267,
   "metadata": {},
   "outputs": [],
   "source": [
    "train_df = remove_outliers(train_df)"
   ]
  },
  {
   "cell_type": "code",
   "execution_count": 268,
   "metadata": {},
   "outputs": [],
   "source": [
    "val_df = remove_outliers(val_df)"
   ]
  },
  {
   "cell_type": "markdown",
   "metadata": {},
   "source": [
    "### Scaling and One-Hot Encoding\n",
    "\n",
    "**Exercise**: Try scaling numeric columns to the `(0,1)` range and encoding categorical columns using a one-hot encoder.\n",
    "\n",
    "We won't do this because we'll be training tree-based models which are generally able to do a good job even without the above."
   ]
  },
  {
   "cell_type": "code",
   "execution_count": 307,
   "metadata": {},
   "outputs": [],
   "source": [
    "input_cols = ['pickup_longitude', 'pickup_latitude',\n",
    "       'dropoff_longitude', 'dropoff_latitude', 'passenger_count',\n",
    "       'pickup_datetime_year', 'pickup_datetime_month', 'pickup_datetime_day',\n",
    "       'pickup_datetime_weekday', 'pickup_datetime_hour', 'trip_distance',\n",
    "       'jfk_drop_distance', 'lga_drop_distance', 'ewr_drop_distance',\n",
    "       'met_drop_distance', 'wtc_drop_distance']"
   ]
  },
  {
   "cell_type": "code",
   "execution_count": 308,
   "metadata": {},
   "outputs": [],
   "source": [
    "target_col = 'fare_amount'"
   ]
  },
  {
   "cell_type": "code",
   "execution_count": 309,
   "metadata": {},
   "outputs": [],
   "source": [
    "train_inputs = train_df[input_cols]\n",
    "train_targets = train_df[target_col]"
   ]
  },
  {
   "cell_type": "code",
   "execution_count": 310,
   "metadata": {},
   "outputs": [],
   "source": [
    "val_inputs = val_df[input_cols]\n",
    "val_targets = val_df[target_col]"
   ]
  },
  {
   "cell_type": "code",
   "execution_count": null,
   "metadata": {},
   "outputs": [],
   "source": []
  },
  {
   "cell_type": "code",
   "execution_count": 311,
   "metadata": {},
   "outputs": [
    {
     "data": {
      "text/html": [
       "<div>\n",
       "<style scoped>\n",
       "    .dataframe tbody tr th:only-of-type {\n",
       "        vertical-align: middle;\n",
       "    }\n",
       "\n",
       "    .dataframe tbody tr th {\n",
       "        vertical-align: top;\n",
       "    }\n",
       "\n",
       "    .dataframe thead th {\n",
       "        text-align: right;\n",
       "    }\n",
       "</style>\n",
       "<table border=\"1\" class=\"dataframe\">\n",
       "  <thead>\n",
       "    <tr style=\"text-align: right;\">\n",
       "      <th></th>\n",
       "      <th>fare_amount</th>\n",
       "      <th>pickup_datetime</th>\n",
       "      <th>pickup_longitude</th>\n",
       "      <th>pickup_latitude</th>\n",
       "      <th>dropoff_longitude</th>\n",
       "      <th>dropoff_latitude</th>\n",
       "      <th>passenger_count</th>\n",
       "      <th>pickup_datetime_year</th>\n",
       "      <th>pickup_datetime_month</th>\n",
       "      <th>pickup_datetime_day</th>\n",
       "      <th>pickup_datetime_weekday</th>\n",
       "      <th>pickup_datetime_hour</th>\n",
       "      <th>trip_distance</th>\n",
       "      <th>jfk_drop_distance</th>\n",
       "      <th>lga_drop_distance</th>\n",
       "      <th>ewr_drop_distance</th>\n",
       "      <th>met_drop_distance</th>\n",
       "      <th>wtc_drop_distance</th>\n",
       "    </tr>\n",
       "  </thead>\n",
       "  <tbody>\n",
       "    <tr>\n",
       "      <th>4321120</th>\n",
       "      <td>10.000000</td>\n",
       "      <td>2015-03-27 23:21:03+00:00</td>\n",
       "      <td>-74.000092</td>\n",
       "      <td>40.761570</td>\n",
       "      <td>-73.970726</td>\n",
       "      <td>40.764744</td>\n",
       "      <td>1.0</td>\n",
       "      <td>2015</td>\n",
       "      <td>3</td>\n",
       "      <td>27</td>\n",
       "      <td>4</td>\n",
       "      <td>23</td>\n",
       "      <td>2.497053</td>\n",
       "      <td>21.248681</td>\n",
       "      <td>8.251297</td>\n",
       "      <td>19.089546</td>\n",
       "      <td>1.747307</td>\n",
       "      <td>6.667664</td>\n",
       "    </tr>\n",
       "    <tr>\n",
       "      <th>2428681</th>\n",
       "      <td>7.700000</td>\n",
       "      <td>2011-08-31 22:41:53+00:00</td>\n",
       "      <td>-74.002029</td>\n",
       "      <td>40.750774</td>\n",
       "      <td>-73.980881</td>\n",
       "      <td>40.781599</td>\n",
       "      <td>2.0</td>\n",
       "      <td>2011</td>\n",
       "      <td>8</td>\n",
       "      <td>31</td>\n",
       "      <td>2</td>\n",
       "      <td>22</td>\n",
       "      <td>3.860271</td>\n",
       "      <td>23.126381</td>\n",
       "      <td>9.008725</td>\n",
       "      <td>19.249675</td>\n",
       "      <td>1.507346</td>\n",
       "      <td>8.047386</td>\n",
       "    </tr>\n",
       "    <tr>\n",
       "      <th>4728450</th>\n",
       "      <td>8.500000</td>\n",
       "      <td>2012-02-23 19:12:13+00:00</td>\n",
       "      <td>-74.001068</td>\n",
       "      <td>40.731571</td>\n",
       "      <td>-73.992050</td>\n",
       "      <td>40.714999</td>\n",
       "      <td>1.0</td>\n",
       "      <td>2012</td>\n",
       "      <td>2</td>\n",
       "      <td>23</td>\n",
       "      <td>3</td>\n",
       "      <td>19</td>\n",
       "      <td>1.992091</td>\n",
       "      <td>19.803436</td>\n",
       "      <td>12.086615</td>\n",
       "      <td>15.629889</td>\n",
       "      <td>7.557325</td>\n",
       "      <td>1.527304</td>\n",
       "    </tr>\n",
       "    <tr>\n",
       "      <th>4029692</th>\n",
       "      <td>7.000000</td>\n",
       "      <td>2014-05-02 08:11:00+00:00</td>\n",
       "      <td>-74.014168</td>\n",
       "      <td>40.709446</td>\n",
       "      <td>-74.005089</td>\n",
       "      <td>40.719837</td>\n",
       "      <td>1.0</td>\n",
       "      <td>2014</td>\n",
       "      <td>5</td>\n",
       "      <td>2</td>\n",
       "      <td>4</td>\n",
       "      <td>8</td>\n",
       "      <td>1.385096</td>\n",
       "      <td>21.025650</td>\n",
       "      <td>12.727696</td>\n",
       "      <td>14.664673</td>\n",
       "      <td>7.499492</td>\n",
       "      <td>0.900695</td>\n",
       "    </tr>\n",
       "    <tr>\n",
       "      <th>1736770</th>\n",
       "      <td>16.500000</td>\n",
       "      <td>2009-06-02 22:02:17+00:00</td>\n",
       "      <td>-74.001976</td>\n",
       "      <td>40.728073</td>\n",
       "      <td>-73.967636</td>\n",
       "      <td>40.787679</td>\n",
       "      <td>1.0</td>\n",
       "      <td>2009</td>\n",
       "      <td>6</td>\n",
       "      <td>2</td>\n",
       "      <td>1</td>\n",
       "      <td>22</td>\n",
       "      <td>7.227028</td>\n",
       "      <td>22.791774</td>\n",
       "      <td>7.969323</td>\n",
       "      <td>20.552714</td>\n",
       "      <td>0.992737</td>\n",
       "      <td>9.070182</td>\n",
       "    </tr>\n",
       "    <tr>\n",
       "      <th>...</th>\n",
       "      <td>...</td>\n",
       "      <td>...</td>\n",
       "      <td>...</td>\n",
       "      <td>...</td>\n",
       "      <td>...</td>\n",
       "      <td>...</td>\n",
       "      <td>...</td>\n",
       "      <td>...</td>\n",
       "      <td>...</td>\n",
       "      <td>...</td>\n",
       "      <td>...</td>\n",
       "      <td>...</td>\n",
       "      <td>...</td>\n",
       "      <td>...</td>\n",
       "      <td>...</td>\n",
       "      <td>...</td>\n",
       "      <td>...</td>\n",
       "      <td>...</td>\n",
       "    </tr>\n",
       "    <tr>\n",
       "      <th>2236496</th>\n",
       "      <td>5.300000</td>\n",
       "      <td>2011-05-16 11:52:00+00:00</td>\n",
       "      <td>-73.980087</td>\n",
       "      <td>40.743015</td>\n",
       "      <td>-73.973305</td>\n",
       "      <td>40.751452</td>\n",
       "      <td>2.0</td>\n",
       "      <td>2011</td>\n",
       "      <td>5</td>\n",
       "      <td>16</td>\n",
       "      <td>0</td>\n",
       "      <td>11</td>\n",
       "      <td>1.097834</td>\n",
       "      <td>20.501827</td>\n",
       "      <td>8.823528</td>\n",
       "      <td>18.290272</td>\n",
       "      <td>3.220000</td>\n",
       "      <td>5.304419</td>\n",
       "    </tr>\n",
       "    <tr>\n",
       "      <th>1694616</th>\n",
       "      <td>8.000000</td>\n",
       "      <td>2012-11-25 03:19:00+00:00</td>\n",
       "      <td>-74.001968</td>\n",
       "      <td>40.740532</td>\n",
       "      <td>-73.979012</td>\n",
       "      <td>40.741202</td>\n",
       "      <td>5.0</td>\n",
       "      <td>2012</td>\n",
       "      <td>11</td>\n",
       "      <td>25</td>\n",
       "      <td>6</td>\n",
       "      <td>3</td>\n",
       "      <td>1.934263</td>\n",
       "      <td>20.243957</td>\n",
       "      <td>9.688176</td>\n",
       "      <td>17.439670</td>\n",
       "      <td>4.448343</td>\n",
       "      <td>4.107384</td>\n",
       "    </tr>\n",
       "    <tr>\n",
       "      <th>392666</th>\n",
       "      <td>17.299999</td>\n",
       "      <td>2012-01-25 11:54:08+00:00</td>\n",
       "      <td>-74.006813</td>\n",
       "      <td>40.706230</td>\n",
       "      <td>-73.989929</td>\n",
       "      <td>40.750996</td>\n",
       "      <td>1.0</td>\n",
       "      <td>2012</td>\n",
       "      <td>1</td>\n",
       "      <td>25</td>\n",
       "      <td>2</td>\n",
       "      <td>11</td>\n",
       "      <td>5.173818</td>\n",
       "      <td>21.613039</td>\n",
       "      <td>10.173117</td>\n",
       "      <td>16.980845</td>\n",
       "      <td>3.875932</td>\n",
       "      <td>4.586231</td>\n",
       "    </tr>\n",
       "    <tr>\n",
       "      <th>3416048</th>\n",
       "      <td>4.500000</td>\n",
       "      <td>2009-01-27 10:00:20+00:00</td>\n",
       "      <td>-73.977493</td>\n",
       "      <td>40.746525</td>\n",
       "      <td>-73.974724</td>\n",
       "      <td>40.752158</td>\n",
       "      <td>1.0</td>\n",
       "      <td>2009</td>\n",
       "      <td>1</td>\n",
       "      <td>27</td>\n",
       "      <td>1</td>\n",
       "      <td>10</td>\n",
       "      <td>0.667898</td>\n",
       "      <td>20.644620</td>\n",
       "      <td>8.912319</td>\n",
       "      <td>18.209247</td>\n",
       "      <td>3.178813</td>\n",
       "      <td>5.300693</td>\n",
       "    </tr>\n",
       "    <tr>\n",
       "      <th>3578247</th>\n",
       "      <td>11.300000</td>\n",
       "      <td>2010-11-16 15:41:40+00:00</td>\n",
       "      <td>-73.977051</td>\n",
       "      <td>40.761692</td>\n",
       "      <td>-73.945755</td>\n",
       "      <td>40.789826</td>\n",
       "      <td>1.0</td>\n",
       "      <td>2010</td>\n",
       "      <td>11</td>\n",
       "      <td>16</td>\n",
       "      <td>1</td>\n",
       "      <td>15</td>\n",
       "      <td>4.087877</td>\n",
       "      <td>21.721435</td>\n",
       "      <td>6.205825</td>\n",
       "      <td>22.254181</td>\n",
       "      <td>1.870396</td>\n",
       "      <td>10.139489</td>\n",
       "    </tr>\n",
       "  </tbody>\n",
       "</table>\n",
       "<p>432524 rows × 18 columns</p>\n",
       "</div>"
      ],
      "text/plain": [
       "         fare_amount           pickup_datetime  pickup_longitude  \\\n",
       "4321120    10.000000 2015-03-27 23:21:03+00:00        -74.000092   \n",
       "2428681     7.700000 2011-08-31 22:41:53+00:00        -74.002029   \n",
       "4728450     8.500000 2012-02-23 19:12:13+00:00        -74.001068   \n",
       "4029692     7.000000 2014-05-02 08:11:00+00:00        -74.014168   \n",
       "1736770    16.500000 2009-06-02 22:02:17+00:00        -74.001976   \n",
       "...              ...                       ...               ...   \n",
       "2236496     5.300000 2011-05-16 11:52:00+00:00        -73.980087   \n",
       "1694616     8.000000 2012-11-25 03:19:00+00:00        -74.001968   \n",
       "392666     17.299999 2012-01-25 11:54:08+00:00        -74.006813   \n",
       "3416048     4.500000 2009-01-27 10:00:20+00:00        -73.977493   \n",
       "3578247    11.300000 2010-11-16 15:41:40+00:00        -73.977051   \n",
       "\n",
       "         pickup_latitude  dropoff_longitude  dropoff_latitude  \\\n",
       "4321120        40.761570         -73.970726         40.764744   \n",
       "2428681        40.750774         -73.980881         40.781599   \n",
       "4728450        40.731571         -73.992050         40.714999   \n",
       "4029692        40.709446         -74.005089         40.719837   \n",
       "1736770        40.728073         -73.967636         40.787679   \n",
       "...                  ...                ...               ...   \n",
       "2236496        40.743015         -73.973305         40.751452   \n",
       "1694616        40.740532         -73.979012         40.741202   \n",
       "392666         40.706230         -73.989929         40.750996   \n",
       "3416048        40.746525         -73.974724         40.752158   \n",
       "3578247        40.761692         -73.945755         40.789826   \n",
       "\n",
       "         passenger_count  pickup_datetime_year  pickup_datetime_month  \\\n",
       "4321120              1.0                  2015                      3   \n",
       "2428681              2.0                  2011                      8   \n",
       "4728450              1.0                  2012                      2   \n",
       "4029692              1.0                  2014                      5   \n",
       "1736770              1.0                  2009                      6   \n",
       "...                  ...                   ...                    ...   \n",
       "2236496              2.0                  2011                      5   \n",
       "1694616              5.0                  2012                     11   \n",
       "392666               1.0                  2012                      1   \n",
       "3416048              1.0                  2009                      1   \n",
       "3578247              1.0                  2010                     11   \n",
       "\n",
       "         pickup_datetime_day  pickup_datetime_weekday  pickup_datetime_hour  \\\n",
       "4321120                   27                        4                    23   \n",
       "2428681                   31                        2                    22   \n",
       "4728450                   23                        3                    19   \n",
       "4029692                    2                        4                     8   \n",
       "1736770                    2                        1                    22   \n",
       "...                      ...                      ...                   ...   \n",
       "2236496                   16                        0                    11   \n",
       "1694616                   25                        6                     3   \n",
       "392666                    25                        2                    11   \n",
       "3416048                   27                        1                    10   \n",
       "3578247                   16                        1                    15   \n",
       "\n",
       "         trip_distance  jfk_drop_distance  lga_drop_distance  \\\n",
       "4321120       2.497053          21.248681           8.251297   \n",
       "2428681       3.860271          23.126381           9.008725   \n",
       "4728450       1.992091          19.803436          12.086615   \n",
       "4029692       1.385096          21.025650          12.727696   \n",
       "1736770       7.227028          22.791774           7.969323   \n",
       "...                ...                ...                ...   \n",
       "2236496       1.097834          20.501827           8.823528   \n",
       "1694616       1.934263          20.243957           9.688176   \n",
       "392666        5.173818          21.613039          10.173117   \n",
       "3416048       0.667898          20.644620           8.912319   \n",
       "3578247       4.087877          21.721435           6.205825   \n",
       "\n",
       "         ewr_drop_distance  met_drop_distance  wtc_drop_distance  \n",
       "4321120          19.089546           1.747307           6.667664  \n",
       "2428681          19.249675           1.507346           8.047386  \n",
       "4728450          15.629889           7.557325           1.527304  \n",
       "4029692          14.664673           7.499492           0.900695  \n",
       "1736770          20.552714           0.992737           9.070182  \n",
       "...                    ...                ...                ...  \n",
       "2236496          18.290272           3.220000           5.304419  \n",
       "1694616          17.439670           4.448343           4.107384  \n",
       "392666           16.980845           3.875932           4.586231  \n",
       "3416048          18.209247           3.178813           5.300693  \n",
       "3578247          22.254181           1.870396          10.139489  \n",
       "\n",
       "[432524 rows x 18 columns]"
      ]
     },
     "execution_count": 311,
     "metadata": {},
     "output_type": "execute_result"
    }
   ],
   "source": [
    "train_df"
   ]
  },
  {
   "cell_type": "code",
   "execution_count": 312,
   "metadata": {},
   "outputs": [
    {
     "data": {
      "text/html": [
       "<div>\n",
       "<style scoped>\n",
       "    .dataframe tbody tr th:only-of-type {\n",
       "        vertical-align: middle;\n",
       "    }\n",
       "\n",
       "    .dataframe tbody tr th {\n",
       "        vertical-align: top;\n",
       "    }\n",
       "\n",
       "    .dataframe thead th {\n",
       "        text-align: right;\n",
       "    }\n",
       "</style>\n",
       "<table border=\"1\" class=\"dataframe\">\n",
       "  <thead>\n",
       "    <tr style=\"text-align: right;\">\n",
       "      <th></th>\n",
       "      <th>pickup_longitude</th>\n",
       "      <th>pickup_latitude</th>\n",
       "      <th>dropoff_longitude</th>\n",
       "      <th>dropoff_latitude</th>\n",
       "      <th>passenger_count</th>\n",
       "      <th>pickup_datetime_year</th>\n",
       "      <th>pickup_datetime_month</th>\n",
       "      <th>pickup_datetime_day</th>\n",
       "      <th>pickup_datetime_weekday</th>\n",
       "      <th>pickup_datetime_hour</th>\n",
       "      <th>trip_distance</th>\n",
       "      <th>jfk_drop_distance</th>\n",
       "      <th>lga_drop_distance</th>\n",
       "      <th>ewr_drop_distance</th>\n",
       "      <th>met_drop_distance</th>\n",
       "      <th>wtc_drop_distance</th>\n",
       "    </tr>\n",
       "  </thead>\n",
       "  <tbody>\n",
       "    <tr>\n",
       "      <th>4321120</th>\n",
       "      <td>-74.000092</td>\n",
       "      <td>40.761570</td>\n",
       "      <td>-73.970726</td>\n",
       "      <td>40.764744</td>\n",
       "      <td>1.0</td>\n",
       "      <td>2015</td>\n",
       "      <td>3</td>\n",
       "      <td>27</td>\n",
       "      <td>4</td>\n",
       "      <td>23</td>\n",
       "      <td>2.497053</td>\n",
       "      <td>21.248681</td>\n",
       "      <td>8.251297</td>\n",
       "      <td>19.089546</td>\n",
       "      <td>1.747307</td>\n",
       "      <td>6.667664</td>\n",
       "    </tr>\n",
       "    <tr>\n",
       "      <th>2428681</th>\n",
       "      <td>-74.002029</td>\n",
       "      <td>40.750774</td>\n",
       "      <td>-73.980881</td>\n",
       "      <td>40.781599</td>\n",
       "      <td>2.0</td>\n",
       "      <td>2011</td>\n",
       "      <td>8</td>\n",
       "      <td>31</td>\n",
       "      <td>2</td>\n",
       "      <td>22</td>\n",
       "      <td>3.860271</td>\n",
       "      <td>23.126381</td>\n",
       "      <td>9.008725</td>\n",
       "      <td>19.249675</td>\n",
       "      <td>1.507346</td>\n",
       "      <td>8.047386</td>\n",
       "    </tr>\n",
       "    <tr>\n",
       "      <th>4728450</th>\n",
       "      <td>-74.001068</td>\n",
       "      <td>40.731571</td>\n",
       "      <td>-73.992050</td>\n",
       "      <td>40.714999</td>\n",
       "      <td>1.0</td>\n",
       "      <td>2012</td>\n",
       "      <td>2</td>\n",
       "      <td>23</td>\n",
       "      <td>3</td>\n",
       "      <td>19</td>\n",
       "      <td>1.992091</td>\n",
       "      <td>19.803436</td>\n",
       "      <td>12.086615</td>\n",
       "      <td>15.629889</td>\n",
       "      <td>7.557325</td>\n",
       "      <td>1.527304</td>\n",
       "    </tr>\n",
       "    <tr>\n",
       "      <th>4029692</th>\n",
       "      <td>-74.014168</td>\n",
       "      <td>40.709446</td>\n",
       "      <td>-74.005089</td>\n",
       "      <td>40.719837</td>\n",
       "      <td>1.0</td>\n",
       "      <td>2014</td>\n",
       "      <td>5</td>\n",
       "      <td>2</td>\n",
       "      <td>4</td>\n",
       "      <td>8</td>\n",
       "      <td>1.385096</td>\n",
       "      <td>21.025650</td>\n",
       "      <td>12.727696</td>\n",
       "      <td>14.664673</td>\n",
       "      <td>7.499492</td>\n",
       "      <td>0.900695</td>\n",
       "    </tr>\n",
       "    <tr>\n",
       "      <th>1736770</th>\n",
       "      <td>-74.001976</td>\n",
       "      <td>40.728073</td>\n",
       "      <td>-73.967636</td>\n",
       "      <td>40.787679</td>\n",
       "      <td>1.0</td>\n",
       "      <td>2009</td>\n",
       "      <td>6</td>\n",
       "      <td>2</td>\n",
       "      <td>1</td>\n",
       "      <td>22</td>\n",
       "      <td>7.227028</td>\n",
       "      <td>22.791774</td>\n",
       "      <td>7.969323</td>\n",
       "      <td>20.552714</td>\n",
       "      <td>0.992737</td>\n",
       "      <td>9.070182</td>\n",
       "    </tr>\n",
       "    <tr>\n",
       "      <th>...</th>\n",
       "      <td>...</td>\n",
       "      <td>...</td>\n",
       "      <td>...</td>\n",
       "      <td>...</td>\n",
       "      <td>...</td>\n",
       "      <td>...</td>\n",
       "      <td>...</td>\n",
       "      <td>...</td>\n",
       "      <td>...</td>\n",
       "      <td>...</td>\n",
       "      <td>...</td>\n",
       "      <td>...</td>\n",
       "      <td>...</td>\n",
       "      <td>...</td>\n",
       "      <td>...</td>\n",
       "      <td>...</td>\n",
       "    </tr>\n",
       "    <tr>\n",
       "      <th>2236496</th>\n",
       "      <td>-73.980087</td>\n",
       "      <td>40.743015</td>\n",
       "      <td>-73.973305</td>\n",
       "      <td>40.751452</td>\n",
       "      <td>2.0</td>\n",
       "      <td>2011</td>\n",
       "      <td>5</td>\n",
       "      <td>16</td>\n",
       "      <td>0</td>\n",
       "      <td>11</td>\n",
       "      <td>1.097834</td>\n",
       "      <td>20.501827</td>\n",
       "      <td>8.823528</td>\n",
       "      <td>18.290272</td>\n",
       "      <td>3.220000</td>\n",
       "      <td>5.304419</td>\n",
       "    </tr>\n",
       "    <tr>\n",
       "      <th>1694616</th>\n",
       "      <td>-74.001968</td>\n",
       "      <td>40.740532</td>\n",
       "      <td>-73.979012</td>\n",
       "      <td>40.741202</td>\n",
       "      <td>5.0</td>\n",
       "      <td>2012</td>\n",
       "      <td>11</td>\n",
       "      <td>25</td>\n",
       "      <td>6</td>\n",
       "      <td>3</td>\n",
       "      <td>1.934263</td>\n",
       "      <td>20.243957</td>\n",
       "      <td>9.688176</td>\n",
       "      <td>17.439670</td>\n",
       "      <td>4.448343</td>\n",
       "      <td>4.107384</td>\n",
       "    </tr>\n",
       "    <tr>\n",
       "      <th>392666</th>\n",
       "      <td>-74.006813</td>\n",
       "      <td>40.706230</td>\n",
       "      <td>-73.989929</td>\n",
       "      <td>40.750996</td>\n",
       "      <td>1.0</td>\n",
       "      <td>2012</td>\n",
       "      <td>1</td>\n",
       "      <td>25</td>\n",
       "      <td>2</td>\n",
       "      <td>11</td>\n",
       "      <td>5.173818</td>\n",
       "      <td>21.613039</td>\n",
       "      <td>10.173117</td>\n",
       "      <td>16.980845</td>\n",
       "      <td>3.875932</td>\n",
       "      <td>4.586231</td>\n",
       "    </tr>\n",
       "    <tr>\n",
       "      <th>3416048</th>\n",
       "      <td>-73.977493</td>\n",
       "      <td>40.746525</td>\n",
       "      <td>-73.974724</td>\n",
       "      <td>40.752158</td>\n",
       "      <td>1.0</td>\n",
       "      <td>2009</td>\n",
       "      <td>1</td>\n",
       "      <td>27</td>\n",
       "      <td>1</td>\n",
       "      <td>10</td>\n",
       "      <td>0.667898</td>\n",
       "      <td>20.644620</td>\n",
       "      <td>8.912319</td>\n",
       "      <td>18.209247</td>\n",
       "      <td>3.178813</td>\n",
       "      <td>5.300693</td>\n",
       "    </tr>\n",
       "    <tr>\n",
       "      <th>3578247</th>\n",
       "      <td>-73.977051</td>\n",
       "      <td>40.761692</td>\n",
       "      <td>-73.945755</td>\n",
       "      <td>40.789826</td>\n",
       "      <td>1.0</td>\n",
       "      <td>2010</td>\n",
       "      <td>11</td>\n",
       "      <td>16</td>\n",
       "      <td>1</td>\n",
       "      <td>15</td>\n",
       "      <td>4.087877</td>\n",
       "      <td>21.721435</td>\n",
       "      <td>6.205825</td>\n",
       "      <td>22.254181</td>\n",
       "      <td>1.870396</td>\n",
       "      <td>10.139489</td>\n",
       "    </tr>\n",
       "  </tbody>\n",
       "</table>\n",
       "<p>432524 rows × 16 columns</p>\n",
       "</div>"
      ],
      "text/plain": [
       "         pickup_longitude  pickup_latitude  dropoff_longitude  \\\n",
       "4321120        -74.000092        40.761570         -73.970726   \n",
       "2428681        -74.002029        40.750774         -73.980881   \n",
       "4728450        -74.001068        40.731571         -73.992050   \n",
       "4029692        -74.014168        40.709446         -74.005089   \n",
       "1736770        -74.001976        40.728073         -73.967636   \n",
       "...                   ...              ...                ...   \n",
       "2236496        -73.980087        40.743015         -73.973305   \n",
       "1694616        -74.001968        40.740532         -73.979012   \n",
       "392666         -74.006813        40.706230         -73.989929   \n",
       "3416048        -73.977493        40.746525         -73.974724   \n",
       "3578247        -73.977051        40.761692         -73.945755   \n",
       "\n",
       "         dropoff_latitude  passenger_count  pickup_datetime_year  \\\n",
       "4321120         40.764744              1.0                  2015   \n",
       "2428681         40.781599              2.0                  2011   \n",
       "4728450         40.714999              1.0                  2012   \n",
       "4029692         40.719837              1.0                  2014   \n",
       "1736770         40.787679              1.0                  2009   \n",
       "...                   ...              ...                   ...   \n",
       "2236496         40.751452              2.0                  2011   \n",
       "1694616         40.741202              5.0                  2012   \n",
       "392666          40.750996              1.0                  2012   \n",
       "3416048         40.752158              1.0                  2009   \n",
       "3578247         40.789826              1.0                  2010   \n",
       "\n",
       "         pickup_datetime_month  pickup_datetime_day  pickup_datetime_weekday  \\\n",
       "4321120                      3                   27                        4   \n",
       "2428681                      8                   31                        2   \n",
       "4728450                      2                   23                        3   \n",
       "4029692                      5                    2                        4   \n",
       "1736770                      6                    2                        1   \n",
       "...                        ...                  ...                      ...   \n",
       "2236496                      5                   16                        0   \n",
       "1694616                     11                   25                        6   \n",
       "392666                       1                   25                        2   \n",
       "3416048                      1                   27                        1   \n",
       "3578247                     11                   16                        1   \n",
       "\n",
       "         pickup_datetime_hour  trip_distance  jfk_drop_distance  \\\n",
       "4321120                    23       2.497053          21.248681   \n",
       "2428681                    22       3.860271          23.126381   \n",
       "4728450                    19       1.992091          19.803436   \n",
       "4029692                     8       1.385096          21.025650   \n",
       "1736770                    22       7.227028          22.791774   \n",
       "...                       ...            ...                ...   \n",
       "2236496                    11       1.097834          20.501827   \n",
       "1694616                     3       1.934263          20.243957   \n",
       "392666                     11       5.173818          21.613039   \n",
       "3416048                    10       0.667898          20.644620   \n",
       "3578247                    15       4.087877          21.721435   \n",
       "\n",
       "         lga_drop_distance  ewr_drop_distance  met_drop_distance  \\\n",
       "4321120           8.251297          19.089546           1.747307   \n",
       "2428681           9.008725          19.249675           1.507346   \n",
       "4728450          12.086615          15.629889           7.557325   \n",
       "4029692          12.727696          14.664673           7.499492   \n",
       "1736770           7.969323          20.552714           0.992737   \n",
       "...                    ...                ...                ...   \n",
       "2236496           8.823528          18.290272           3.220000   \n",
       "1694616           9.688176          17.439670           4.448343   \n",
       "392666           10.173117          16.980845           3.875932   \n",
       "3416048           8.912319          18.209247           3.178813   \n",
       "3578247           6.205825          22.254181           1.870396   \n",
       "\n",
       "         wtc_drop_distance  \n",
       "4321120           6.667664  \n",
       "2428681           8.047386  \n",
       "4728450           1.527304  \n",
       "4029692           0.900695  \n",
       "1736770           9.070182  \n",
       "...                    ...  \n",
       "2236496           5.304419  \n",
       "1694616           4.107384  \n",
       "392666            4.586231  \n",
       "3416048           5.300693  \n",
       "3578247          10.139489  \n",
       "\n",
       "[432524 rows x 16 columns]"
      ]
     },
     "execution_count": 312,
     "metadata": {},
     "output_type": "execute_result"
    }
   ],
   "source": [
    "train_inputs"
   ]
  },
  {
   "cell_type": "markdown",
   "metadata": {
    "id": "D69gMpoc-T3x"
   },
   "source": [
    "## 4. Baseline Models"
   ]
  },
  {
   "cell_type": "markdown",
   "metadata": {
    "id": "HojOJqvh-8I2"
   },
   "source": [
    "### Train & Evaluate Hardcoded Model\n",
    "\n",
    "Let's create a simple model that always predicts the average."
   ]
  },
  {
   "cell_type": "code",
   "execution_count": 313,
   "metadata": {
    "id": "egLCJe0TdrGF"
   },
   "outputs": [],
   "source": [
    "class MeanRegressor():\n",
    "    def fit(self, inputs, targets):\n",
    "        self.mean = targets.mean()\n",
    "\n",
    "    def predict(self, inputs):\n",
    "        return np.full(inputs.shape[0], self.mean)"
   ]
  },
  {
   "cell_type": "code",
   "execution_count": 314,
   "metadata": {
    "id": "qi3N8Kkh-_SZ"
   },
   "outputs": [],
   "source": [
    "mean_model = MeanRegressor()\n",
    "mean_model.fit(train_inputs,train_target)"
   ]
  },
  {
   "cell_type": "code",
   "execution_count": 315,
   "metadata": {
    "id": "br8KFvGQdeWW"
   },
   "outputs": [
    {
     "data": {
      "text/plain": [
       "array([11.318533, 11.318533, 11.318533, ..., 11.318533, 11.318533,\n",
       "       11.318533], dtype=float32)"
      ]
     },
     "execution_count": 315,
     "metadata": {},
     "output_type": "execute_result"
    }
   ],
   "source": [
    "train_preds = mean_model.predict(train_inputs)\n",
    "train_preds"
   ]
  },
  {
   "cell_type": "code",
   "execution_count": 316,
   "metadata": {
    "id": "YnR-_BSzdeqO"
   },
   "outputs": [
    {
     "data": {
      "text/plain": [
       "array([11.318533, 11.318533, 11.318533, ..., 11.318533, 11.318533,\n",
       "       11.318533], dtype=float32)"
      ]
     },
     "execution_count": 316,
     "metadata": {},
     "output_type": "execute_result"
    }
   ],
   "source": [
    "val_preds = mean_model.predict(val_inputs)\n",
    "val_preds"
   ]
  },
  {
   "cell_type": "code",
   "execution_count": 317,
   "metadata": {
    "id": "LyJOWf0-dkbr"
   },
   "outputs": [],
   "source": [
    "from sklearn.metrics import mean_squared_error"
   ]
  },
  {
   "cell_type": "code",
   "execution_count": 318,
   "metadata": {
    "id": "4Mp2LEKHdktj"
   },
   "outputs": [
    {
     "data": {
      "text/plain": [
       "9.646772"
      ]
     },
     "execution_count": 318,
     "metadata": {},
     "output_type": "execute_result"
    }
   ],
   "source": [
    "train_rmse = mean_squared_error(train_target,train_preds, squared=False)\n",
    "train_rmse"
   ]
  },
  {
   "cell_type": "code",
   "execution_count": 319,
   "metadata": {
    "id": "pkbSKOZqdm0z"
   },
   "outputs": [
    {
     "data": {
      "text/plain": [
       "9.697148"
      ]
     },
     "execution_count": 319,
     "metadata": {},
     "output_type": "execute_result"
    }
   ],
   "source": [
    "val_rmse = mean_squared_error(val_target,val_preds, squared=False)\n",
    "val_rmse"
   ]
  },
  {
   "cell_type": "markdown",
   "metadata": {},
   "source": [
    "Let's try the ML models now!"
   ]
  },
  {
   "cell_type": "markdown",
   "metadata": {},
   "source": [
    "Linear Regression"
   ]
  },
  {
   "cell_type": "code",
   "execution_count": 320,
   "metadata": {},
   "outputs": [],
   "source": [
    "from sklearn.linear_model import LinearRegression\n"
   ]
  },
  {
   "cell_type": "code",
   "execution_count": 321,
   "metadata": {},
   "outputs": [],
   "source": [
    "linreg  =LinearRegression()"
   ]
  },
  {
   "cell_type": "code",
   "execution_count": 322,
   "metadata": {
    "id": "nvJkxaImdnP1"
   },
   "outputs": [
    {
     "data": {
      "text/html": [
       "<style>#sk-container-id-6 {color: black;}#sk-container-id-6 pre{padding: 0;}#sk-container-id-6 div.sk-toggleable {background-color: white;}#sk-container-id-6 label.sk-toggleable__label {cursor: pointer;display: block;width: 100%;margin-bottom: 0;padding: 0.3em;box-sizing: border-box;text-align: center;}#sk-container-id-6 label.sk-toggleable__label-arrow:before {content: \"▸\";float: left;margin-right: 0.25em;color: #696969;}#sk-container-id-6 label.sk-toggleable__label-arrow:hover:before {color: black;}#sk-container-id-6 div.sk-estimator:hover label.sk-toggleable__label-arrow:before {color: black;}#sk-container-id-6 div.sk-toggleable__content {max-height: 0;max-width: 0;overflow: hidden;text-align: left;background-color: #f0f8ff;}#sk-container-id-6 div.sk-toggleable__content pre {margin: 0.2em;color: black;border-radius: 0.25em;background-color: #f0f8ff;}#sk-container-id-6 input.sk-toggleable__control:checked~div.sk-toggleable__content {max-height: 200px;max-width: 100%;overflow: auto;}#sk-container-id-6 input.sk-toggleable__control:checked~label.sk-toggleable__label-arrow:before {content: \"▾\";}#sk-container-id-6 div.sk-estimator input.sk-toggleable__control:checked~label.sk-toggleable__label {background-color: #d4ebff;}#sk-container-id-6 div.sk-label input.sk-toggleable__control:checked~label.sk-toggleable__label {background-color: #d4ebff;}#sk-container-id-6 input.sk-hidden--visually {border: 0;clip: rect(1px 1px 1px 1px);clip: rect(1px, 1px, 1px, 1px);height: 1px;margin: -1px;overflow: hidden;padding: 0;position: absolute;width: 1px;}#sk-container-id-6 div.sk-estimator {font-family: monospace;background-color: #f0f8ff;border: 1px dotted black;border-radius: 0.25em;box-sizing: border-box;margin-bottom: 0.5em;}#sk-container-id-6 div.sk-estimator:hover {background-color: #d4ebff;}#sk-container-id-6 div.sk-parallel-item::after {content: \"\";width: 100%;border-bottom: 1px solid gray;flex-grow: 1;}#sk-container-id-6 div.sk-label:hover label.sk-toggleable__label {background-color: #d4ebff;}#sk-container-id-6 div.sk-serial::before {content: \"\";position: absolute;border-left: 1px solid gray;box-sizing: border-box;top: 0;bottom: 0;left: 50%;z-index: 0;}#sk-container-id-6 div.sk-serial {display: flex;flex-direction: column;align-items: center;background-color: white;padding-right: 0.2em;padding-left: 0.2em;position: relative;}#sk-container-id-6 div.sk-item {position: relative;z-index: 1;}#sk-container-id-6 div.sk-parallel {display: flex;align-items: stretch;justify-content: center;background-color: white;position: relative;}#sk-container-id-6 div.sk-item::before, #sk-container-id-6 div.sk-parallel-item::before {content: \"\";position: absolute;border-left: 1px solid gray;box-sizing: border-box;top: 0;bottom: 0;left: 50%;z-index: -1;}#sk-container-id-6 div.sk-parallel-item {display: flex;flex-direction: column;z-index: 1;position: relative;background-color: white;}#sk-container-id-6 div.sk-parallel-item:first-child::after {align-self: flex-end;width: 50%;}#sk-container-id-6 div.sk-parallel-item:last-child::after {align-self: flex-start;width: 50%;}#sk-container-id-6 div.sk-parallel-item:only-child::after {width: 0;}#sk-container-id-6 div.sk-dashed-wrapped {border: 1px dashed gray;margin: 0 0.4em 0.5em 0.4em;box-sizing: border-box;padding-bottom: 0.4em;background-color: white;}#sk-container-id-6 div.sk-label label {font-family: monospace;font-weight: bold;display: inline-block;line-height: 1.2em;}#sk-container-id-6 div.sk-label-container {text-align: center;}#sk-container-id-6 div.sk-container {/* jupyter's `normalize.less` sets `[hidden] { display: none; }` but bootstrap.min.css set `[hidden] { display: none !important; }` so we also need the `!important` here to be able to override the default hidden behavior on the sphinx rendered scikit-learn.org. See: https://github.com/scikit-learn/scikit-learn/issues/21755 */display: inline-block !important;position: relative;}#sk-container-id-6 div.sk-text-repr-fallback {display: none;}</style><div id=\"sk-container-id-6\" class=\"sk-top-container\"><div class=\"sk-text-repr-fallback\"><pre>LinearRegression()</pre><b>In a Jupyter environment, please rerun this cell to show the HTML representation or trust the notebook. <br />On GitHub, the HTML representation is unable to render, please try loading this page with nbviewer.org.</b></div><div class=\"sk-container\" hidden><div class=\"sk-item\"><div class=\"sk-estimator sk-toggleable\"><input class=\"sk-toggleable__control sk-hidden--visually\" id=\"sk-estimator-id-6\" type=\"checkbox\" checked><label for=\"sk-estimator-id-6\" class=\"sk-toggleable__label sk-toggleable__label-arrow\">LinearRegression</label><div class=\"sk-toggleable__content\"><pre>LinearRegression()</pre></div></div></div></div></div>"
      ],
      "text/plain": [
       "LinearRegression()"
      ]
     },
     "execution_count": 322,
     "metadata": {},
     "output_type": "execute_result"
    }
   ],
   "source": [
    "linreg.fit(train_inputs,train_target)"
   ]
  },
  {
   "cell_type": "code",
   "execution_count": 323,
   "metadata": {
    "id": "AHoIUSyXdupG"
   },
   "outputs": [
    {
     "data": {
      "text/plain": [
       "array([ 9.83009389, 11.45122955,  8.1505595 , ..., 14.48257105,\n",
       "        4.27007311, 12.00946966])"
      ]
     },
     "execution_count": 323,
     "metadata": {},
     "output_type": "execute_result"
    }
   ],
   "source": [
    "train_preds= linreg.predict(train_inputs)\n",
    "train_preds"
   ]
  },
  {
   "cell_type": "code",
   "execution_count": 324,
   "metadata": {
    "id": "Kedz-UOFd4kM"
   },
   "outputs": [
    {
     "data": {
      "text/plain": [
       "array([ 9.56843866,  8.09844667, 11.15313764, ...,  5.0438988 ,\n",
       "        9.88540532,  7.89506031])"
      ]
     },
     "execution_count": 324,
     "metadata": {},
     "output_type": "execute_result"
    }
   ],
   "source": [
    "val_preds= linreg.predict(val_inputs)\n",
    "val_preds"
   ]
  },
  {
   "cell_type": "code",
   "execution_count": 325,
   "metadata": {
    "id": "hJLGGq3Rdu6U"
   },
   "outputs": [
    {
     "data": {
      "text/plain": [
       "5.188173734438641"
      ]
     },
     "execution_count": 325,
     "metadata": {},
     "output_type": "execute_result"
    }
   ],
   "source": [
    "train_rmse = mean_squared_error(train_target,train_preds,squared=False)\n",
    "train_rmse"
   ]
  },
  {
   "cell_type": "code",
   "execution_count": 326,
   "metadata": {
    "id": "6q6zRkNyeLSm"
   },
   "outputs": [
    {
     "data": {
      "text/plain": [
       "5.138522464760545"
      ]
     },
     "execution_count": 326,
     "metadata": {},
     "output_type": "execute_result"
    }
   ],
   "source": [
    "val_rmse = mean_squared_error(val_target,val_preds,squared=False)\n",
    "val_rmse"
   ]
  },
  {
   "cell_type": "markdown",
   "metadata": {},
   "source": [
    "Linear Regression isn't good model for this data, and performs like the base line model of giving the mean all the time"
   ]
  },
  {
   "cell_type": "markdown",
   "metadata": {},
   "source": [
    "## 7. Train & Evaluate Different Models"
   ]
  },
  {
   "cell_type": "markdown",
   "metadata": {},
   "source": [
    "Let's define a helper function to evaluate models and generate test predictions"
   ]
  },
  {
   "cell_type": "code",
   "execution_count": 328,
   "metadata": {},
   "outputs": [],
   "source": [
    "def evaluate(model):\n",
    "    train_preds = model.predict(train_inputs)\n",
    "    train_rmse = mean_squared_error(train_targets, train_preds, squared=False)\n",
    "    val_preds = model.predict(val_inputs)\n",
    "    val_rmse = mean_squared_error(val_targets, val_preds, squared=False)\n",
    "    return train_rmse, val_rmse, train_preds, val_preds"
   ]
  },
  {
   "cell_type": "markdown",
   "metadata": {},
   "source": [
    "### Ridge Regression"
   ]
  },
  {
   "cell_type": "code",
   "execution_count": 330,
   "metadata": {},
   "outputs": [],
   "source": [
    "from sklearn.linear_model import Ridge"
   ]
  },
  {
   "cell_type": "code",
   "execution_count": 331,
   "metadata": {},
   "outputs": [],
   "source": [
    "model1 = Ridge(random_state=42)"
   ]
  },
  {
   "cell_type": "code",
   "execution_count": 332,
   "metadata": {},
   "outputs": [
    {
     "name": "stdout",
     "output_type": "stream",
     "text": [
      "CPU times: total: 46.9 ms\n",
      "Wall time: 332 ms\n"
     ]
    },
    {
     "data": {
      "text/html": [
       "<style>#sk-container-id-7 {color: black;}#sk-container-id-7 pre{padding: 0;}#sk-container-id-7 div.sk-toggleable {background-color: white;}#sk-container-id-7 label.sk-toggleable__label {cursor: pointer;display: block;width: 100%;margin-bottom: 0;padding: 0.3em;box-sizing: border-box;text-align: center;}#sk-container-id-7 label.sk-toggleable__label-arrow:before {content: \"▸\";float: left;margin-right: 0.25em;color: #696969;}#sk-container-id-7 label.sk-toggleable__label-arrow:hover:before {color: black;}#sk-container-id-7 div.sk-estimator:hover label.sk-toggleable__label-arrow:before {color: black;}#sk-container-id-7 div.sk-toggleable__content {max-height: 0;max-width: 0;overflow: hidden;text-align: left;background-color: #f0f8ff;}#sk-container-id-7 div.sk-toggleable__content pre {margin: 0.2em;color: black;border-radius: 0.25em;background-color: #f0f8ff;}#sk-container-id-7 input.sk-toggleable__control:checked~div.sk-toggleable__content {max-height: 200px;max-width: 100%;overflow: auto;}#sk-container-id-7 input.sk-toggleable__control:checked~label.sk-toggleable__label-arrow:before {content: \"▾\";}#sk-container-id-7 div.sk-estimator input.sk-toggleable__control:checked~label.sk-toggleable__label {background-color: #d4ebff;}#sk-container-id-7 div.sk-label input.sk-toggleable__control:checked~label.sk-toggleable__label {background-color: #d4ebff;}#sk-container-id-7 input.sk-hidden--visually {border: 0;clip: rect(1px 1px 1px 1px);clip: rect(1px, 1px, 1px, 1px);height: 1px;margin: -1px;overflow: hidden;padding: 0;position: absolute;width: 1px;}#sk-container-id-7 div.sk-estimator {font-family: monospace;background-color: #f0f8ff;border: 1px dotted black;border-radius: 0.25em;box-sizing: border-box;margin-bottom: 0.5em;}#sk-container-id-7 div.sk-estimator:hover {background-color: #d4ebff;}#sk-container-id-7 div.sk-parallel-item::after {content: \"\";width: 100%;border-bottom: 1px solid gray;flex-grow: 1;}#sk-container-id-7 div.sk-label:hover label.sk-toggleable__label {background-color: #d4ebff;}#sk-container-id-7 div.sk-serial::before {content: \"\";position: absolute;border-left: 1px solid gray;box-sizing: border-box;top: 0;bottom: 0;left: 50%;z-index: 0;}#sk-container-id-7 div.sk-serial {display: flex;flex-direction: column;align-items: center;background-color: white;padding-right: 0.2em;padding-left: 0.2em;position: relative;}#sk-container-id-7 div.sk-item {position: relative;z-index: 1;}#sk-container-id-7 div.sk-parallel {display: flex;align-items: stretch;justify-content: center;background-color: white;position: relative;}#sk-container-id-7 div.sk-item::before, #sk-container-id-7 div.sk-parallel-item::before {content: \"\";position: absolute;border-left: 1px solid gray;box-sizing: border-box;top: 0;bottom: 0;left: 50%;z-index: -1;}#sk-container-id-7 div.sk-parallel-item {display: flex;flex-direction: column;z-index: 1;position: relative;background-color: white;}#sk-container-id-7 div.sk-parallel-item:first-child::after {align-self: flex-end;width: 50%;}#sk-container-id-7 div.sk-parallel-item:last-child::after {align-self: flex-start;width: 50%;}#sk-container-id-7 div.sk-parallel-item:only-child::after {width: 0;}#sk-container-id-7 div.sk-dashed-wrapped {border: 1px dashed gray;margin: 0 0.4em 0.5em 0.4em;box-sizing: border-box;padding-bottom: 0.4em;background-color: white;}#sk-container-id-7 div.sk-label label {font-family: monospace;font-weight: bold;display: inline-block;line-height: 1.2em;}#sk-container-id-7 div.sk-label-container {text-align: center;}#sk-container-id-7 div.sk-container {/* jupyter's `normalize.less` sets `[hidden] { display: none; }` but bootstrap.min.css set `[hidden] { display: none !important; }` so we also need the `!important` here to be able to override the default hidden behavior on the sphinx rendered scikit-learn.org. See: https://github.com/scikit-learn/scikit-learn/issues/21755 */display: inline-block !important;position: relative;}#sk-container-id-7 div.sk-text-repr-fallback {display: none;}</style><div id=\"sk-container-id-7\" class=\"sk-top-container\"><div class=\"sk-text-repr-fallback\"><pre>Ridge(random_state=42)</pre><b>In a Jupyter environment, please rerun this cell to show the HTML representation or trust the notebook. <br />On GitHub, the HTML representation is unable to render, please try loading this page with nbviewer.org.</b></div><div class=\"sk-container\" hidden><div class=\"sk-item\"><div class=\"sk-estimator sk-toggleable\"><input class=\"sk-toggleable__control sk-hidden--visually\" id=\"sk-estimator-id-7\" type=\"checkbox\" checked><label for=\"sk-estimator-id-7\" class=\"sk-toggleable__label sk-toggleable__label-arrow\">Ridge</label><div class=\"sk-toggleable__content\"><pre>Ridge(random_state=42)</pre></div></div></div></div></div>"
      ],
      "text/plain": [
       "Ridge(random_state=42)"
      ]
     },
     "execution_count": 332,
     "metadata": {},
     "output_type": "execute_result"
    }
   ],
   "source": [
    "%%time\n",
    "model1.fit(train_inputs, train_targets)"
   ]
  },
  {
   "cell_type": "code",
   "execution_count": 333,
   "metadata": {},
   "outputs": [
    {
     "data": {
      "text/plain": [
       "(5.18817793735291,\n",
       " 5.138619853173253,\n",
       " array([ 9.8339611 , 11.45010731,  8.15074096, ..., 14.47729971,\n",
       "         4.26909472, 12.01085177]),\n",
       " array([ 9.56904779,  8.09946325, 11.14865066, ...,  5.04108896,\n",
       "         9.88571325,  7.89870444]))"
      ]
     },
     "execution_count": 333,
     "metadata": {},
     "output_type": "execute_result"
    }
   ],
   "source": [
    "evaluate(model1)"
   ]
  },
  {
   "cell_type": "markdown",
   "metadata": {},
   "source": [
    "Our model was able to get to an RMSE of $5.2, much better than our baseline model."
   ]
  },
  {
   "cell_type": "markdown",
   "metadata": {},
   "source": [
    "### Random Forest\n",
    "\n",
    "https://scikit-learn.org/stable/modules/generated/sklearn.ensemble.RandomForestRegressor.html"
   ]
  },
  {
   "cell_type": "code",
   "execution_count": 335,
   "metadata": {},
   "outputs": [],
   "source": [
    "from sklearn.ensemble import RandomForestRegressor"
   ]
  },
  {
   "cell_type": "code",
   "execution_count": 336,
   "metadata": {},
   "outputs": [],
   "source": [
    "model2 = RandomForestRegressor(max_depth=10, n_jobs=-1, random_state=42, n_estimators=50)"
   ]
  },
  {
   "cell_type": "code",
   "execution_count": 337,
   "metadata": {},
   "outputs": [
    {
     "name": "stdout",
     "output_type": "stream",
     "text": [
      "CPU times: total: 10min 3s\n",
      "Wall time: 1min 6s\n"
     ]
    },
    {
     "data": {
      "text/html": [
       "<style>#sk-container-id-8 {color: black;}#sk-container-id-8 pre{padding: 0;}#sk-container-id-8 div.sk-toggleable {background-color: white;}#sk-container-id-8 label.sk-toggleable__label {cursor: pointer;display: block;width: 100%;margin-bottom: 0;padding: 0.3em;box-sizing: border-box;text-align: center;}#sk-container-id-8 label.sk-toggleable__label-arrow:before {content: \"▸\";float: left;margin-right: 0.25em;color: #696969;}#sk-container-id-8 label.sk-toggleable__label-arrow:hover:before {color: black;}#sk-container-id-8 div.sk-estimator:hover label.sk-toggleable__label-arrow:before {color: black;}#sk-container-id-8 div.sk-toggleable__content {max-height: 0;max-width: 0;overflow: hidden;text-align: left;background-color: #f0f8ff;}#sk-container-id-8 div.sk-toggleable__content pre {margin: 0.2em;color: black;border-radius: 0.25em;background-color: #f0f8ff;}#sk-container-id-8 input.sk-toggleable__control:checked~div.sk-toggleable__content {max-height: 200px;max-width: 100%;overflow: auto;}#sk-container-id-8 input.sk-toggleable__control:checked~label.sk-toggleable__label-arrow:before {content: \"▾\";}#sk-container-id-8 div.sk-estimator input.sk-toggleable__control:checked~label.sk-toggleable__label {background-color: #d4ebff;}#sk-container-id-8 div.sk-label input.sk-toggleable__control:checked~label.sk-toggleable__label {background-color: #d4ebff;}#sk-container-id-8 input.sk-hidden--visually {border: 0;clip: rect(1px 1px 1px 1px);clip: rect(1px, 1px, 1px, 1px);height: 1px;margin: -1px;overflow: hidden;padding: 0;position: absolute;width: 1px;}#sk-container-id-8 div.sk-estimator {font-family: monospace;background-color: #f0f8ff;border: 1px dotted black;border-radius: 0.25em;box-sizing: border-box;margin-bottom: 0.5em;}#sk-container-id-8 div.sk-estimator:hover {background-color: #d4ebff;}#sk-container-id-8 div.sk-parallel-item::after {content: \"\";width: 100%;border-bottom: 1px solid gray;flex-grow: 1;}#sk-container-id-8 div.sk-label:hover label.sk-toggleable__label {background-color: #d4ebff;}#sk-container-id-8 div.sk-serial::before {content: \"\";position: absolute;border-left: 1px solid gray;box-sizing: border-box;top: 0;bottom: 0;left: 50%;z-index: 0;}#sk-container-id-8 div.sk-serial {display: flex;flex-direction: column;align-items: center;background-color: white;padding-right: 0.2em;padding-left: 0.2em;position: relative;}#sk-container-id-8 div.sk-item {position: relative;z-index: 1;}#sk-container-id-8 div.sk-parallel {display: flex;align-items: stretch;justify-content: center;background-color: white;position: relative;}#sk-container-id-8 div.sk-item::before, #sk-container-id-8 div.sk-parallel-item::before {content: \"\";position: absolute;border-left: 1px solid gray;box-sizing: border-box;top: 0;bottom: 0;left: 50%;z-index: -1;}#sk-container-id-8 div.sk-parallel-item {display: flex;flex-direction: column;z-index: 1;position: relative;background-color: white;}#sk-container-id-8 div.sk-parallel-item:first-child::after {align-self: flex-end;width: 50%;}#sk-container-id-8 div.sk-parallel-item:last-child::after {align-self: flex-start;width: 50%;}#sk-container-id-8 div.sk-parallel-item:only-child::after {width: 0;}#sk-container-id-8 div.sk-dashed-wrapped {border: 1px dashed gray;margin: 0 0.4em 0.5em 0.4em;box-sizing: border-box;padding-bottom: 0.4em;background-color: white;}#sk-container-id-8 div.sk-label label {font-family: monospace;font-weight: bold;display: inline-block;line-height: 1.2em;}#sk-container-id-8 div.sk-label-container {text-align: center;}#sk-container-id-8 div.sk-container {/* jupyter's `normalize.less` sets `[hidden] { display: none; }` but bootstrap.min.css set `[hidden] { display: none !important; }` so we also need the `!important` here to be able to override the default hidden behavior on the sphinx rendered scikit-learn.org. See: https://github.com/scikit-learn/scikit-learn/issues/21755 */display: inline-block !important;position: relative;}#sk-container-id-8 div.sk-text-repr-fallback {display: none;}</style><div id=\"sk-container-id-8\" class=\"sk-top-container\"><div class=\"sk-text-repr-fallback\"><pre>RandomForestRegressor(max_depth=10, n_estimators=50, n_jobs=-1, random_state=42)</pre><b>In a Jupyter environment, please rerun this cell to show the HTML representation or trust the notebook. <br />On GitHub, the HTML representation is unable to render, please try loading this page with nbviewer.org.</b></div><div class=\"sk-container\" hidden><div class=\"sk-item\"><div class=\"sk-estimator sk-toggleable\"><input class=\"sk-toggleable__control sk-hidden--visually\" id=\"sk-estimator-id-8\" type=\"checkbox\" checked><label for=\"sk-estimator-id-8\" class=\"sk-toggleable__label sk-toggleable__label-arrow\">RandomForestRegressor</label><div class=\"sk-toggleable__content\"><pre>RandomForestRegressor(max_depth=10, n_estimators=50, n_jobs=-1, random_state=42)</pre></div></div></div></div></div>"
      ],
      "text/plain": [
       "RandomForestRegressor(max_depth=10, n_estimators=50, n_jobs=-1, random_state=42)"
      ]
     },
     "execution_count": 337,
     "metadata": {},
     "output_type": "execute_result"
    }
   ],
   "source": [
    "%%time\n",
    "model2.fit(train_inputs, train_targets)"
   ]
  },
  {
   "cell_type": "code",
   "execution_count": 338,
   "metadata": {},
   "outputs": [
    {
     "data": {
      "text/plain": [
       "(3.5487049972414977,\n",
       " 3.939532577830562,\n",
       " array([10.11263403, 10.65168402,  7.54859011, ..., 13.9413967 ,\n",
       "         4.96730646, 11.74731258]),\n",
       " array([ 9.21494694,  9.36566096, 11.7339365 , ...,  5.04345424,\n",
       "         9.51582388,  7.4452378 ]))"
      ]
     },
     "execution_count": 338,
     "metadata": {},
     "output_type": "execute_result"
    }
   ],
   "source": [
    "evaluate(model2)"
   ]
  },
  {
   "cell_type": "markdown",
   "metadata": {},
   "source": [
    "### Gradient Boosting\n"
   ]
  },
  {
   "cell_type": "code",
   "execution_count": 340,
   "metadata": {},
   "outputs": [],
   "source": [
    "from xgboost import XGBRegressor"
   ]
  },
  {
   "cell_type": "code",
   "execution_count": 341,
   "metadata": {},
   "outputs": [],
   "source": [
    "model3 = XGBRegressor(random_state=42, n_jobs=-1, objective='reg:squarederror')"
   ]
  },
  {
   "cell_type": "code",
   "execution_count": 342,
   "metadata": {},
   "outputs": [
    {
     "name": "stdout",
     "output_type": "stream",
     "text": [
      "CPU times: total: 16.5 s\n",
      "Wall time: 3.51 s\n"
     ]
    },
    {
     "data": {
      "text/html": [
       "<style>#sk-container-id-9 {color: black;}#sk-container-id-9 pre{padding: 0;}#sk-container-id-9 div.sk-toggleable {background-color: white;}#sk-container-id-9 label.sk-toggleable__label {cursor: pointer;display: block;width: 100%;margin-bottom: 0;padding: 0.3em;box-sizing: border-box;text-align: center;}#sk-container-id-9 label.sk-toggleable__label-arrow:before {content: \"▸\";float: left;margin-right: 0.25em;color: #696969;}#sk-container-id-9 label.sk-toggleable__label-arrow:hover:before {color: black;}#sk-container-id-9 div.sk-estimator:hover label.sk-toggleable__label-arrow:before {color: black;}#sk-container-id-9 div.sk-toggleable__content {max-height: 0;max-width: 0;overflow: hidden;text-align: left;background-color: #f0f8ff;}#sk-container-id-9 div.sk-toggleable__content pre {margin: 0.2em;color: black;border-radius: 0.25em;background-color: #f0f8ff;}#sk-container-id-9 input.sk-toggleable__control:checked~div.sk-toggleable__content {max-height: 200px;max-width: 100%;overflow: auto;}#sk-container-id-9 input.sk-toggleable__control:checked~label.sk-toggleable__label-arrow:before {content: \"▾\";}#sk-container-id-9 div.sk-estimator input.sk-toggleable__control:checked~label.sk-toggleable__label {background-color: #d4ebff;}#sk-container-id-9 div.sk-label input.sk-toggleable__control:checked~label.sk-toggleable__label {background-color: #d4ebff;}#sk-container-id-9 input.sk-hidden--visually {border: 0;clip: rect(1px 1px 1px 1px);clip: rect(1px, 1px, 1px, 1px);height: 1px;margin: -1px;overflow: hidden;padding: 0;position: absolute;width: 1px;}#sk-container-id-9 div.sk-estimator {font-family: monospace;background-color: #f0f8ff;border: 1px dotted black;border-radius: 0.25em;box-sizing: border-box;margin-bottom: 0.5em;}#sk-container-id-9 div.sk-estimator:hover {background-color: #d4ebff;}#sk-container-id-9 div.sk-parallel-item::after {content: \"\";width: 100%;border-bottom: 1px solid gray;flex-grow: 1;}#sk-container-id-9 div.sk-label:hover label.sk-toggleable__label {background-color: #d4ebff;}#sk-container-id-9 div.sk-serial::before {content: \"\";position: absolute;border-left: 1px solid gray;box-sizing: border-box;top: 0;bottom: 0;left: 50%;z-index: 0;}#sk-container-id-9 div.sk-serial {display: flex;flex-direction: column;align-items: center;background-color: white;padding-right: 0.2em;padding-left: 0.2em;position: relative;}#sk-container-id-9 div.sk-item {position: relative;z-index: 1;}#sk-container-id-9 div.sk-parallel {display: flex;align-items: stretch;justify-content: center;background-color: white;position: relative;}#sk-container-id-9 div.sk-item::before, #sk-container-id-9 div.sk-parallel-item::before {content: \"\";position: absolute;border-left: 1px solid gray;box-sizing: border-box;top: 0;bottom: 0;left: 50%;z-index: -1;}#sk-container-id-9 div.sk-parallel-item {display: flex;flex-direction: column;z-index: 1;position: relative;background-color: white;}#sk-container-id-9 div.sk-parallel-item:first-child::after {align-self: flex-end;width: 50%;}#sk-container-id-9 div.sk-parallel-item:last-child::after {align-self: flex-start;width: 50%;}#sk-container-id-9 div.sk-parallel-item:only-child::after {width: 0;}#sk-container-id-9 div.sk-dashed-wrapped {border: 1px dashed gray;margin: 0 0.4em 0.5em 0.4em;box-sizing: border-box;padding-bottom: 0.4em;background-color: white;}#sk-container-id-9 div.sk-label label {font-family: monospace;font-weight: bold;display: inline-block;line-height: 1.2em;}#sk-container-id-9 div.sk-label-container {text-align: center;}#sk-container-id-9 div.sk-container {/* jupyter's `normalize.less` sets `[hidden] { display: none; }` but bootstrap.min.css set `[hidden] { display: none !important; }` so we also need the `!important` here to be able to override the default hidden behavior on the sphinx rendered scikit-learn.org. See: https://github.com/scikit-learn/scikit-learn/issues/21755 */display: inline-block !important;position: relative;}#sk-container-id-9 div.sk-text-repr-fallback {display: none;}</style><div id=\"sk-container-id-9\" class=\"sk-top-container\"><div class=\"sk-text-repr-fallback\"><pre>XGBRegressor(base_score=None, booster=None, callbacks=None,\n",
       "             colsample_bylevel=None, colsample_bynode=None,\n",
       "             colsample_bytree=None, device=None, early_stopping_rounds=None,\n",
       "             enable_categorical=False, eval_metric=None, feature_types=None,\n",
       "             gamma=None, grow_policy=None, importance_type=None,\n",
       "             interaction_constraints=None, learning_rate=None, max_bin=None,\n",
       "             max_cat_threshold=None, max_cat_to_onehot=None,\n",
       "             max_delta_step=None, max_depth=None, max_leaves=None,\n",
       "             min_child_weight=None, missing=nan, monotone_constraints=None,\n",
       "             multi_strategy=None, n_estimators=None, n_jobs=-1,\n",
       "             num_parallel_tree=None, random_state=42, ...)</pre><b>In a Jupyter environment, please rerun this cell to show the HTML representation or trust the notebook. <br />On GitHub, the HTML representation is unable to render, please try loading this page with nbviewer.org.</b></div><div class=\"sk-container\" hidden><div class=\"sk-item\"><div class=\"sk-estimator sk-toggleable\"><input class=\"sk-toggleable__control sk-hidden--visually\" id=\"sk-estimator-id-9\" type=\"checkbox\" checked><label for=\"sk-estimator-id-9\" class=\"sk-toggleable__label sk-toggleable__label-arrow\">XGBRegressor</label><div class=\"sk-toggleable__content\"><pre>XGBRegressor(base_score=None, booster=None, callbacks=None,\n",
       "             colsample_bylevel=None, colsample_bynode=None,\n",
       "             colsample_bytree=None, device=None, early_stopping_rounds=None,\n",
       "             enable_categorical=False, eval_metric=None, feature_types=None,\n",
       "             gamma=None, grow_policy=None, importance_type=None,\n",
       "             interaction_constraints=None, learning_rate=None, max_bin=None,\n",
       "             max_cat_threshold=None, max_cat_to_onehot=None,\n",
       "             max_delta_step=None, max_depth=None, max_leaves=None,\n",
       "             min_child_weight=None, missing=nan, monotone_constraints=None,\n",
       "             multi_strategy=None, n_estimators=None, n_jobs=-1,\n",
       "             num_parallel_tree=None, random_state=42, ...)</pre></div></div></div></div></div>"
      ],
      "text/plain": [
       "XGBRegressor(base_score=None, booster=None, callbacks=None,\n",
       "             colsample_bylevel=None, colsample_bynode=None,\n",
       "             colsample_bytree=None, device=None, early_stopping_rounds=None,\n",
       "             enable_categorical=False, eval_metric=None, feature_types=None,\n",
       "             gamma=None, grow_policy=None, importance_type=None,\n",
       "             interaction_constraints=None, learning_rate=None, max_bin=None,\n",
       "             max_cat_threshold=None, max_cat_to_onehot=None,\n",
       "             max_delta_step=None, max_depth=None, max_leaves=None,\n",
       "             min_child_weight=None, missing=nan, monotone_constraints=None,\n",
       "             multi_strategy=None, n_estimators=None, n_jobs=-1,\n",
       "             num_parallel_tree=None, random_state=42, ...)"
      ]
     },
     "execution_count": 342,
     "metadata": {},
     "output_type": "execute_result"
    }
   ],
   "source": [
    "%%time\n",
    "model3.fit(train_inputs, train_targets)"
   ]
  },
  {
   "cell_type": "code",
   "execution_count": 343,
   "metadata": {},
   "outputs": [
    {
     "data": {
      "text/plain": [
       "(3.0935142,\n",
       " 3.821227,\n",
       " array([10.985288,  9.07984 ,  8.144897, ..., 15.610023,  4.738119,\n",
       "        11.514942], dtype=float32),\n",
       " array([10.25689  ,  8.225278 , 11.546198 , ...,  4.5570555, 11.110576 ,\n",
       "         5.870023 ], dtype=float32))"
      ]
     },
     "execution_count": 343,
     "metadata": {},
     "output_type": "execute_result"
    }
   ],
   "source": [
    "evaluate(model3)"
   ]
  },
  {
   "cell_type": "markdown",
   "metadata": {},
   "source": [
    "## 8. Tune Hyperparmeters"
   ]
  },
  {
   "cell_type": "code",
   "execution_count": 345,
   "metadata": {},
   "outputs": [],
   "source": [
    "import matplotlib.pyplot as plt\n",
    "\n",
    "def test_params(ModelClass, **params):\n",
    "    \"\"\"Trains a model with the given parameters and returns training & validation RMSE\"\"\"\n",
    "    model = ModelClass(**params).fit(train_inputs, train_targets)\n",
    "    train_rmse = mean_squared_error(model.predict(train_inputs), train_targets, squared=False)\n",
    "    val_rmse = mean_squared_error(model.predict(val_inputs), val_targets, squared=False)\n",
    "    return train_rmse, val_rmse\n",
    "\n",
    "def test_param_and_plot(ModelClass, param_name, param_values, **other_params):\n",
    "    \"\"\"Trains multiple models by varying the value of param_name according to param_values\"\"\"\n",
    "    train_errors, val_errors = [], [] \n",
    "    for value in param_values:\n",
    "        params = dict(other_params)\n",
    "        params[param_name] = value\n",
    "        train_rmse, val_rmse = test_params(ModelClass, **params)\n",
    "        train_errors.append(train_rmse)\n",
    "        val_errors.append(val_rmse)\n",
    "    \n",
    "    plt.figure(figsize=(10,6))\n",
    "    plt.title('Overfitting curve: ' + param_name)\n",
    "    plt.plot(param_values, train_errors, 'b-o')\n",
    "    plt.plot(param_values, val_errors, 'r-o')\n",
    "    plt.xlabel(param_name)\n",
    "    plt.ylabel('RMSE')\n",
    "    plt.legend(['Training', 'Validation'])"
   ]
  },
  {
   "cell_type": "code",
   "execution_count": 346,
   "metadata": {},
   "outputs": [],
   "source": [
    "best_params = {\n",
    "    'random_state': 42,\n",
    "    'n_jobs': -1,\n",
    "    'objective': 'reg:squarederror'\n",
    "}"
   ]
  },
  {
   "cell_type": "markdown",
   "metadata": {},
   "source": [
    "### No. of Trees"
   ]
  },
  {
   "cell_type": "code",
   "execution_count": 347,
   "metadata": {},
   "outputs": [
    {
     "name": "stdout",
     "output_type": "stream",
     "text": [
      "CPU times: total: 2min 8s\n",
      "Wall time: 17.1 s\n"
     ]
    },
    {
     "data": {
      "image/png": "[encoded data removed]",
      "text/plain": [
       "<Figure size 1000x600 with 1 Axes>"
      ]
     },
     "metadata": {},
     "output_type": "display_data"
    }
   ],
   "source": [
    "%%time \n",
    "test_param_and_plot(XGBRegressor, 'n_estimators', [100, 250, 500], **best_params)"
   ]
  },
  {
   "cell_type": "markdown",
   "metadata": {},
   "source": [
    "Seems like 500 estimators has the lowest validation loss. However, it also takes a long time. Let's stick with 250 for now."
   ]
  },
  {
   "cell_type": "code",
   "execution_count": 348,
   "metadata": {},
   "outputs": [],
   "source": [
    "best_params['n_estimators'] = 250"
   ]
  },
  {
   "cell_type": "markdown",
   "metadata": {},
   "source": [
    "### Max Depth"
   ]
  },
  {
   "cell_type": "code",
   "execution_count": 349,
   "metadata": {},
   "outputs": [
    {
     "name": "stdout",
     "output_type": "stream",
     "text": [
      "CPU times: total: 1min 9s\n",
      "Wall time: 10.7 s\n"
     ]
    },
    {
     "data": {
      "image/png": "[encoded data removed]",
      "text/plain": [
       "<Figure size 1000x600 with 1 Axes>"
      ]
     },
     "metadata": {},
     "output_type": "display_data"
    }
   ],
   "source": [
    "%%time \n",
    "test_param_and_plot(XGBRegressor, 'max_depth', [3, 4, 5], **best_params)"
   ]
  },
  {
   "cell_type": "markdown",
   "metadata": {},
   "source": [
    "Looks like a max depth of 5 is ideal."
   ]
  },
  {
   "cell_type": "code",
   "execution_count": 350,
   "metadata": {},
   "outputs": [],
   "source": [
    "best_params['max_depth'] = 5"
   ]
  },
  {
   "cell_type": "markdown",
   "metadata": {},
   "source": [
    "### Learning Rate"
   ]
  },
  {
   "cell_type": "code",
   "execution_count": 351,
   "metadata": {},
   "outputs": [
    {
     "name": "stdout",
     "output_type": "stream",
     "text": [
      "CPU times: total: 1min 34s\n",
      "Wall time: 13 s\n"
     ]
    },
    {
     "data": {
      "image/png": "[encoded data removed]",
      "text/plain": [
       "<Figure size 1000x600 with 1 Axes>"
      ]
     },
     "metadata": {},
     "output_type": "display_data"
    }
   ],
   "source": [
    "%%time\n",
    "test_param_and_plot(XGBRegressor, 'learning_rate', [0.05, 0.1, 0.25], **best_params)"
   ]
  },
  {
   "cell_type": "markdown",
   "metadata": {},
   "source": [
    "Seems like the best learning rate is 0.25."
   ]
  },
  {
   "cell_type": "code",
   "execution_count": 352,
   "metadata": {},
   "outputs": [],
   "source": [
    "best_params['learning_rate'] = 0.25"
   ]
  },
  {
   "cell_type": "markdown",
   "metadata": {},
   "source": [
    "### Other Parameters"
   ]
  },
  {
   "cell_type": "markdown",
   "metadata": {},
   "source": [
    "Similarly we can experiment with other parameters. \n",
    "\n",
    "Here's a set of parameters that works well:"
   ]
  },
  {
   "cell_type": "code",
   "execution_count": 353,
   "metadata": {},
   "outputs": [],
   "source": [
    "xgb_model_final = XGBRegressor(objective='reg:squarederror', n_jobs=-1, random_state=42,\n",
    "                               n_estimators=500, max_depth=5, learning_rate=0.1, \n",
    "                               subsample=0.8, colsample_bytree=0.8)"
   ]
  },
  {
   "cell_type": "code",
   "execution_count": 354,
   "metadata": {},
   "outputs": [
    {
     "name": "stdout",
     "output_type": "stream",
     "text": [
      "CPU times: total: 47.8 s\n",
      "Wall time: 7.8 s\n"
     ]
    },
    {
     "data": {
      "text/html": [
       "<style>#sk-container-id-10 {color: black;}#sk-container-id-10 pre{padding: 0;}#sk-container-id-10 div.sk-toggleable {background-color: white;}#sk-container-id-10 label.sk-toggleable__label {cursor: pointer;display: block;width: 100%;margin-bottom: 0;padding: 0.3em;box-sizing: border-box;text-align: center;}#sk-container-id-10 label.sk-toggleable__label-arrow:before {content: \"▸\";float: left;margin-right: 0.25em;color: #696969;}#sk-container-id-10 label.sk-toggleable__label-arrow:hover:before {color: black;}#sk-container-id-10 div.sk-estimator:hover label.sk-toggleable__label-arrow:before {color: black;}#sk-container-id-10 div.sk-toggleable__content {max-height: 0;max-width: 0;overflow: hidden;text-align: left;background-color: #f0f8ff;}#sk-container-id-10 div.sk-toggleable__content pre {margin: 0.2em;color: black;border-radius: 0.25em;background-color: #f0f8ff;}#sk-container-id-10 input.sk-toggleable__control:checked~div.sk-toggleable__content {max-height: 200px;max-width: 100%;overflow: auto;}#sk-container-id-10 input.sk-toggleable__control:checked~label.sk-toggleable__label-arrow:before {content: \"▾\";}#sk-container-id-10 div.sk-estimator input.sk-toggleable__control:checked~label.sk-toggleable__label {background-color: #d4ebff;}#sk-container-id-10 div.sk-label input.sk-toggleable__control:checked~label.sk-toggleable__label {background-color: #d4ebff;}#sk-container-id-10 input.sk-hidden--visually {border: 0;clip: rect(1px 1px 1px 1px);clip: rect(1px, 1px, 1px, 1px);height: 1px;margin: -1px;overflow: hidden;padding: 0;position: absolute;width: 1px;}#sk-container-id-10 div.sk-estimator {font-family: monospace;background-color: #f0f8ff;border: 1px dotted black;border-radius: 0.25em;box-sizing: border-box;margin-bottom: 0.5em;}#sk-container-id-10 div.sk-estimator:hover {background-color: #d4ebff;}#sk-container-id-10 div.sk-parallel-item::after {content: \"\";width: 100%;border-bottom: 1px solid gray;flex-grow: 1;}#sk-container-id-10 div.sk-label:hover label.sk-toggleable__label {background-color: #d4ebff;}#sk-container-id-10 div.sk-serial::before {content: \"\";position: absolute;border-left: 1px solid gray;box-sizing: border-box;top: 0;bottom: 0;left: 50%;z-index: 0;}#sk-container-id-10 div.sk-serial {display: flex;flex-direction: column;align-items: center;background-color: white;padding-right: 0.2em;padding-left: 0.2em;position: relative;}#sk-container-id-10 div.sk-item {position: relative;z-index: 1;}#sk-container-id-10 div.sk-parallel {display: flex;align-items: stretch;justify-content: center;background-color: white;position: relative;}#sk-container-id-10 div.sk-item::before, #sk-container-id-10 div.sk-parallel-item::before {content: \"\";position: absolute;border-left: 1px solid gray;box-sizing: border-box;top: 0;bottom: 0;left: 50%;z-index: -1;}#sk-container-id-10 div.sk-parallel-item {display: flex;flex-direction: column;z-index: 1;position: relative;background-color: white;}#sk-container-id-10 div.sk-parallel-item:first-child::after {align-self: flex-end;width: 50%;}#sk-container-id-10 div.sk-parallel-item:last-child::after {align-self: flex-start;width: 50%;}#sk-container-id-10 div.sk-parallel-item:only-child::after {width: 0;}#sk-container-id-10 div.sk-dashed-wrapped {border: 1px dashed gray;margin: 0 0.4em 0.5em 0.4em;box-sizing: border-box;padding-bottom: 0.4em;background-color: white;}#sk-container-id-10 div.sk-label label {font-family: monospace;font-weight: bold;display: inline-block;line-height: 1.2em;}#sk-container-id-10 div.sk-label-container {text-align: center;}#sk-container-id-10 div.sk-container {/* jupyter's `normalize.less` sets `[hidden] { display: none; }` but bootstrap.min.css set `[hidden] { display: none !important; }` so we also need the `!important` here to be able to override the default hidden behavior on the sphinx rendered scikit-learn.org. See: https://github.com/scikit-learn/scikit-learn/issues/21755 */display: inline-block !important;position: relative;}#sk-container-id-10 div.sk-text-repr-fallback {display: none;}</style><div id=\"sk-container-id-10\" class=\"sk-top-container\"><div class=\"sk-text-repr-fallback\"><pre>XGBRegressor(base_score=None, booster=None, callbacks=None,\n",
       "             colsample_bylevel=None, colsample_bynode=None,\n",
       "             colsample_bytree=0.8, device=None, early_stopping_rounds=None,\n",
       "             enable_categorical=False, eval_metric=None, feature_types=None,\n",
       "             gamma=None, grow_policy=None, importance_type=None,\n",
       "             interaction_constraints=None, learning_rate=0.1, max_bin=None,\n",
       "             max_cat_threshold=None, max_cat_to_onehot=None,\n",
       "             max_delta_step=None, max_depth=5, max_leaves=None,\n",
       "             min_child_weight=None, missing=nan, monotone_constraints=None,\n",
       "             multi_strategy=None, n_estimators=500, n_jobs=-1,\n",
       "             num_parallel_tree=None, random_state=42, ...)</pre><b>In a Jupyter environment, please rerun this cell to show the HTML representation or trust the notebook. <br />On GitHub, the HTML representation is unable to render, please try loading this page with nbviewer.org.</b></div><div class=\"sk-container\" hidden><div class=\"sk-item\"><div class=\"sk-estimator sk-toggleable\"><input class=\"sk-toggleable__control sk-hidden--visually\" id=\"sk-estimator-id-10\" type=\"checkbox\" checked><label for=\"sk-estimator-id-10\" class=\"sk-toggleable__label sk-toggleable__label-arrow\">XGBRegressor</label><div class=\"sk-toggleable__content\"><pre>XGBRegressor(base_score=None, booster=None, callbacks=None,\n",
       "             colsample_bylevel=None, colsample_bynode=None,\n",
       "             colsample_bytree=0.8, device=None, early_stopping_rounds=None,\n",
       "             enable_categorical=False, eval_metric=None, feature_types=None,\n",
       "             gamma=None, grow_policy=None, importance_type=None,\n",
       "             interaction_constraints=None, learning_rate=0.1, max_bin=None,\n",
       "             max_cat_threshold=None, max_cat_to_onehot=None,\n",
       "             max_delta_step=None, max_depth=5, max_leaves=None,\n",
       "             min_child_weight=None, missing=nan, monotone_constraints=None,\n",
       "             multi_strategy=None, n_estimators=500, n_jobs=-1,\n",
       "             num_parallel_tree=None, random_state=42, ...)</pre></div></div></div></div></div>"
      ],
      "text/plain": [
       "XGBRegressor(base_score=None, booster=None, callbacks=None,\n",
       "             colsample_bylevel=None, colsample_bynode=None,\n",
       "             colsample_bytree=0.8, device=None, early_stopping_rounds=None,\n",
       "             enable_categorical=False, eval_metric=None, feature_types=None,\n",
       "             gamma=None, grow_policy=None, importance_type=None,\n",
       "             interaction_constraints=None, learning_rate=0.1, max_bin=None,\n",
       "             max_cat_threshold=None, max_cat_to_onehot=None,\n",
       "             max_delta_step=None, max_depth=5, max_leaves=None,\n",
       "             min_child_weight=None, missing=nan, monotone_constraints=None,\n",
       "             multi_strategy=None, n_estimators=500, n_jobs=-1,\n",
       "             num_parallel_tree=None, random_state=42, ...)"
      ]
     },
     "execution_count": 354,
     "metadata": {},
     "output_type": "execute_result"
    }
   ],
   "source": [
    "%%time\n",
    "xgb_model_final.fit(train_inputs, train_targets)"
   ]
  },
  {
   "cell_type": "code",
   "execution_count": 355,
   "metadata": {},
   "outputs": [
    {
     "data": {
      "text/plain": [
       "(3.1722608,\n",
       " 3.7535353,\n",
       " array([10.8916645,  9.033604 ,  8.421809 , ..., 14.484024 ,  4.5829263,\n",
       "        10.827273 ], dtype=float32),\n",
       " array([10.438049 ,  8.01119  , 11.404738 , ...,  4.628754 , 10.576502 ,\n",
       "         5.9950976], dtype=float32))"
      ]
     },
     "execution_count": 355,
     "metadata": {},
     "output_type": "execute_result"
    }
   ],
   "source": [
    "evaluate(xgb_model_final)"
   ]
  },
  {
   "cell_type": "code",
   "execution_count": 356,
   "metadata": {},
   "outputs": [],
   "source": [
    "test_inputs = test_df[input_cols]"
   ]
  },
  {
   "cell_type": "code",
   "execution_count": 358,
   "metadata": {},
   "outputs": [],
   "source": [
    "test_preds = xgb_model_final.predict(test_inputs)\n",
    "sub_df = pd.read_csv(data_dir+'/sample_submission.csv')\n",
    "sub_df['fare_amount'] = test_preds\n",
    "sub_df.to_csv(\"Final_Submission.csv\", index=None)"
   ]
  },
  {
   "cell_type": "code",
   "execution_count": 360,
   "metadata": {},
   "outputs": [
    {
     "data": {
      "text/html": [
       "<div>\n",
       "<style scoped>\n",
       "    .dataframe tbody tr th:only-of-type {\n",
       "        vertical-align: middle;\n",
       "    }\n",
       "\n",
       "    .dataframe tbody tr th {\n",
       "        vertical-align: top;\n",
       "    }\n",
       "\n",
       "    .dataframe thead th {\n",
       "        text-align: right;\n",
       "    }\n",
       "</style>\n",
       "<table border=\"1\" class=\"dataframe\">\n",
       "  <thead>\n",
       "    <tr style=\"text-align: right;\">\n",
       "      <th></th>\n",
       "      <th>key</th>\n",
       "      <th>fare_amount</th>\n",
       "    </tr>\n",
       "  </thead>\n",
       "  <tbody>\n",
       "    <tr>\n",
       "      <th>0</th>\n",
       "      <td>2015-01-27 13:08:24.0000002</td>\n",
       "      <td>10.723157</td>\n",
       "    </tr>\n",
       "    <tr>\n",
       "      <th>1</th>\n",
       "      <td>2015-01-27 13:08:24.0000003</td>\n",
       "      <td>10.904222</td>\n",
       "    </tr>\n",
       "    <tr>\n",
       "      <th>2</th>\n",
       "      <td>2011-10-08 11:53:44.0000002</td>\n",
       "      <td>4.874192</td>\n",
       "    </tr>\n",
       "    <tr>\n",
       "      <th>3</th>\n",
       "      <td>2012-12-01 21:12:12.0000002</td>\n",
       "      <td>8.830291</td>\n",
       "    </tr>\n",
       "    <tr>\n",
       "      <th>4</th>\n",
       "      <td>2012-12-01 21:12:12.0000003</td>\n",
       "      <td>15.890627</td>\n",
       "    </tr>\n",
       "    <tr>\n",
       "      <th>...</th>\n",
       "      <td>...</td>\n",
       "      <td>...</td>\n",
       "    </tr>\n",
       "    <tr>\n",
       "      <th>9909</th>\n",
       "      <td>2015-05-10 12:37:51.0000002</td>\n",
       "      <td>8.814969</td>\n",
       "    </tr>\n",
       "    <tr>\n",
       "      <th>9910</th>\n",
       "      <td>2015-01-12 17:05:51.0000001</td>\n",
       "      <td>11.712416</td>\n",
       "    </tr>\n",
       "    <tr>\n",
       "      <th>9911</th>\n",
       "      <td>2015-04-19 20:44:15.0000001</td>\n",
       "      <td>52.553436</td>\n",
       "    </tr>\n",
       "    <tr>\n",
       "      <th>9912</th>\n",
       "      <td>2015-01-31 01:05:19.0000005</td>\n",
       "      <td>19.839535</td>\n",
       "    </tr>\n",
       "    <tr>\n",
       "      <th>9913</th>\n",
       "      <td>2015-01-18 14:06:23.0000006</td>\n",
       "      <td>6.708818</td>\n",
       "    </tr>\n",
       "  </tbody>\n",
       "</table>\n",
       "<p>9914 rows × 2 columns</p>\n",
       "</div>"
      ],
      "text/plain": [
       "                              key  fare_amount\n",
       "0     2015-01-27 13:08:24.0000002    10.723157\n",
       "1     2015-01-27 13:08:24.0000003    10.904222\n",
       "2     2011-10-08 11:53:44.0000002     4.874192\n",
       "3     2012-12-01 21:12:12.0000002     8.830291\n",
       "4     2012-12-01 21:12:12.0000003    15.890627\n",
       "...                           ...          ...\n",
       "9909  2015-05-10 12:37:51.0000002     8.814969\n",
       "9910  2015-01-12 17:05:51.0000001    11.712416\n",
       "9911  2015-04-19 20:44:15.0000001    52.553436\n",
       "9912  2015-01-31 01:05:19.0000005    19.839535\n",
       "9913  2015-01-18 14:06:23.0000006     6.708818\n",
       "\n",
       "[9914 rows x 2 columns]"
      ]
     },
     "execution_count": 360,
     "metadata": {},
     "output_type": "execute_result"
    }
   ],
   "source": [
    "pd.read_csv(\"Final_Submission.csv\")"
   ]
  },
  {
   "cell_type": "code",
   "execution_count": null,
   "metadata": {},
   "outputs": [],
   "source": []
  }
 ],
 "metadata": {
  "accelerator": "GPU",
  "colab": {
   "collapsed_sections": [],
   "machine_shape": "hm",
   "name": "nyc_taxi_fare_prediction.ipynb",
   "provenance": [],
   "toc_visible": true
  },
  "kernelspec": {
   "display_name": "Python 3",
   "language": "python",
   "name": "python3"
  },
  "language_info": {
   "codemirror_mode": {
    "name": "ipython",
    "version": 3
   },
   "file_extension": ".py",
   "mimetype": "text/x-python",
   "name": "python",
   "nbconvert_exporter": "python",
   "pygments_lexer": "ipython3",
   "version": "3.8.0rc1"
  }
 },
 "nbformat": 4,
 "nbformat_minor": 0
}
